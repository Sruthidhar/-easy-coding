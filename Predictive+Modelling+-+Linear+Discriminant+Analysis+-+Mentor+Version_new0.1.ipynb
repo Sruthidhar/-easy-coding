{
 "cells": [
  {
   "cell_type": "markdown",
   "metadata": {},
   "source": [
    "# Problem Statement"
   ]
  },
  {
   "cell_type": "markdown",
   "metadata": {},
   "source": [
    "Customer Churn is a burning problem for Telecom companies. Almost every telecom company pays a premium to get a customer on-board. Customer churn directly impacts company’s revenue.\n",
    "  \n",
    "In this case-study, we simulate one such case of customer churn where we work on a data of post-paid customers with a contract. The data has information about customer usage behaviour, contract details, and payment details. The data also indicates which were the customers who cancelled their service.  \n",
    "  \n",
    "Based on this past data, Perform an EDA and build a model which can predict whether a customer will cancel their service in the future or not."
   ]
  },
  {
   "cell_type": "markdown",
   "metadata": {},
   "source": [
    "# Data Dictionary"
   ]
  },
  {
   "cell_type": "markdown",
   "metadata": {},
   "source": [
    "* <b>Churn</b> - 1 if customer cancelled service, 0 if not\n",
    "* <b>AccountWeeks</b> - number of weeks customer has had active account\n",
    "* <b>ContractRenewal</b> - 1 if customer recently renewed contract, 0 if not\n",
    "* <b>DataPlan</b> - 1 if customer has data plan, 0 if not\n",
    "* <b>DataUsage</b> - gigabytes of monthly data usage\n",
    "* <b>CustServCalls</b> - number of calls into customer service\n",
    "* <b>DayMins</b> - average daytime minutes per month\n",
    "* <b>DayCalls</b> - average number of daytime calls\n",
    "* <b>MonthlyCharge</b> - average monthly bill\n",
    "* <b>OverageFee</b> - largest overage fee in last 12 months\n",
    "* <b>RoamMins</b> - average number of roaming minutes\n"
   ]
  },
  {
   "cell_type": "code",
   "execution_count": 1,
   "metadata": {
    "ExecuteTime": {
     "end_time": "2020-07-31T11:26:24.442830Z",
     "start_time": "2020-07-31T11:26:23.383651Z"
    }
   },
   "outputs": [],
   "source": [
    "#Import all necessary modules\n",
    "import pandas as pd  \n",
    "import numpy as np \n",
    "import matplotlib.pyplot as plt \n",
    "import seaborn as sns\n",
    "from sklearn.discriminant_analysis import LinearDiscriminantAnalysis\n",
    "from sklearn import metrics,model_selection\n",
    "from sklearn.preprocessing import scale"
   ]
  },
  {
   "cell_type": "code",
   "execution_count": 2,
   "metadata": {
    "ExecuteTime": {
     "end_time": "2020-07-31T11:26:24.872670Z",
     "start_time": "2020-07-31T11:26:24.443780Z"
    }
   },
   "outputs": [],
   "source": [
    "cell_df = pd.read_excel(\"Cellphone.xlsx\")"
   ]
  },
  {
   "cell_type": "markdown",
   "metadata": {},
   "source": [
    "## EDA"
   ]
  },
  {
   "cell_type": "code",
   "execution_count": 3,
   "metadata": {
    "ExecuteTime": {
     "end_time": "2020-07-31T11:26:24.891602Z",
     "start_time": "2020-07-31T11:26:24.874627Z"
    }
   },
   "outputs": [
    {
     "data": {
      "text/html": [
       "<div>\n",
       "<style scoped>\n",
       "    .dataframe tbody tr th:only-of-type {\n",
       "        vertical-align: middle;\n",
       "    }\n",
       "\n",
       "    .dataframe tbody tr th {\n",
       "        vertical-align: top;\n",
       "    }\n",
       "\n",
       "    .dataframe thead th {\n",
       "        text-align: right;\n",
       "    }\n",
       "</style>\n",
       "<table border=\"1\" class=\"dataframe\">\n",
       "  <thead>\n",
       "    <tr style=\"text-align: right;\">\n",
       "      <th></th>\n",
       "      <th>Churn</th>\n",
       "      <th>AccountWeeks</th>\n",
       "      <th>ContractRenewal</th>\n",
       "      <th>DataPlan</th>\n",
       "      <th>DataUsage</th>\n",
       "      <th>CustServCalls</th>\n",
       "      <th>DayMins</th>\n",
       "      <th>DayCalls</th>\n",
       "      <th>MonthlyCharge</th>\n",
       "      <th>OverageFee</th>\n",
       "      <th>RoamMins</th>\n",
       "    </tr>\n",
       "  </thead>\n",
       "  <tbody>\n",
       "    <tr>\n",
       "      <th>0</th>\n",
       "      <td>1</td>\n",
       "      <td>108.0</td>\n",
       "      <td>0.0</td>\n",
       "      <td>0.0</td>\n",
       "      <td>0.38</td>\n",
       "      <td>2.0</td>\n",
       "      <td>115.1</td>\n",
       "      <td>114.0</td>\n",
       "      <td>41.8</td>\n",
       "      <td>10.57</td>\n",
       "      <td>13.8</td>\n",
       "    </tr>\n",
       "    <tr>\n",
       "      <th>1</th>\n",
       "      <td>0</td>\n",
       "      <td>113.0</td>\n",
       "      <td>1.0</td>\n",
       "      <td>1.0</td>\n",
       "      <td>3.59</td>\n",
       "      <td>1.0</td>\n",
       "      <td>44.9</td>\n",
       "      <td>63.0</td>\n",
       "      <td>55.9</td>\n",
       "      <td>6.71</td>\n",
       "      <td>13.3</td>\n",
       "    </tr>\n",
       "    <tr>\n",
       "      <th>2</th>\n",
       "      <td>0</td>\n",
       "      <td>101.0</td>\n",
       "      <td>1.0</td>\n",
       "      <td>0.0</td>\n",
       "      <td>0.00</td>\n",
       "      <td>0.0</td>\n",
       "      <td>257.3</td>\n",
       "      <td>84.0</td>\n",
       "      <td>60.0</td>\n",
       "      <td>9.24</td>\n",
       "      <td>13.5</td>\n",
       "    </tr>\n",
       "    <tr>\n",
       "      <th>3</th>\n",
       "      <td>0</td>\n",
       "      <td>80.0</td>\n",
       "      <td>1.0</td>\n",
       "      <td>1.0</td>\n",
       "      <td>2.89</td>\n",
       "      <td>4.0</td>\n",
       "      <td>166.4</td>\n",
       "      <td>92.0</td>\n",
       "      <td>77.9</td>\n",
       "      <td>11.92</td>\n",
       "      <td>10.7</td>\n",
       "    </tr>\n",
       "    <tr>\n",
       "      <th>4</th>\n",
       "      <td>0</td>\n",
       "      <td>70.0</td>\n",
       "      <td>1.0</td>\n",
       "      <td>0.0</td>\n",
       "      <td>0.00</td>\n",
       "      <td>0.0</td>\n",
       "      <td>175.4</td>\n",
       "      <td>130.0</td>\n",
       "      <td>44.0</td>\n",
       "      <td>7.98</td>\n",
       "      <td>11.6</td>\n",
       "    </tr>\n",
       "  </tbody>\n",
       "</table>\n",
       "</div>"
      ],
      "text/plain": [
       "   Churn  AccountWeeks  ContractRenewal  DataPlan  DataUsage  CustServCalls  \\\n",
       "0      1         108.0              0.0       0.0       0.38            2.0   \n",
       "1      0         113.0              1.0       1.0       3.59            1.0   \n",
       "2      0         101.0              1.0       0.0       0.00            0.0   \n",
       "3      0          80.0              1.0       1.0       2.89            4.0   \n",
       "4      0          70.0              1.0       0.0       0.00            0.0   \n",
       "\n",
       "   DayMins  DayCalls  MonthlyCharge  OverageFee  RoamMins  \n",
       "0    115.1     114.0           41.8       10.57      13.8  \n",
       "1     44.9      63.0           55.9        6.71      13.3  \n",
       "2    257.3      84.0           60.0        9.24      13.5  \n",
       "3    166.4      92.0           77.9       11.92      10.7  \n",
       "4    175.4     130.0           44.0        7.98      11.6  "
      ]
     },
     "execution_count": 3,
     "metadata": {},
     "output_type": "execute_result"
    }
   ],
   "source": [
    "cell_df.head()"
   ]
  },
  {
   "cell_type": "code",
   "execution_count": 4,
   "metadata": {
    "ExecuteTime": {
     "end_time": "2020-07-31T11:26:25.009304Z",
     "start_time": "2020-07-31T11:26:24.893611Z"
    }
   },
   "outputs": [
    {
     "name": "stdout",
     "output_type": "stream",
     "text": [
      "<class 'pandas.core.frame.DataFrame'>\n",
      "RangeIndex: 3333 entries, 0 to 3332\n",
      "Data columns (total 11 columns):\n",
      " #   Column           Non-Null Count  Dtype  \n",
      "---  ------           --------------  -----  \n",
      " 0   Churn            3333 non-null   int64  \n",
      " 1   AccountWeeks     3303 non-null   float64\n",
      " 2   ContractRenewal  3315 non-null   float64\n",
      " 3   DataPlan         3324 non-null   float64\n",
      " 4   DataUsage        3317 non-null   float64\n",
      " 5   CustServCalls    3281 non-null   float64\n",
      " 6   DayMins          3298 non-null   float64\n",
      " 7   DayCalls         3322 non-null   float64\n",
      " 8   MonthlyCharge    3320 non-null   float64\n",
      " 9   OverageFee       3309 non-null   float64\n",
      " 10  RoamMins         3326 non-null   float64\n",
      "dtypes: float64(10), int64(1)\n",
      "memory usage: 286.6 KB\n"
     ]
    }
   ],
   "source": [
    "cell_df.info()"
   ]
  },
  {
   "cell_type": "markdown",
   "metadata": {},
   "source": [
    "There are missing values in some coumns.  \n",
    "All variables are of numeric type and does not contain any data inconsistencies (causing numeric variables to be object due to some special characters present in the data).  \n",
    "Churn is the target variable.   \n",
    "Churn, ContractRenewal and DataPlan are binary variables."
   ]
  },
  {
   "cell_type": "code",
   "execution_count": 5,
   "metadata": {
    "ExecuteTime": {
     "end_time": "2020-07-31T11:26:25.163888Z",
     "start_time": "2020-07-31T11:26:25.010299Z"
    },
    "scrolled": true
   },
   "outputs": [
    {
     "data": {
      "text/html": [
       "<div>\n",
       "<style scoped>\n",
       "    .dataframe tbody tr th:only-of-type {\n",
       "        vertical-align: middle;\n",
       "    }\n",
       "\n",
       "    .dataframe tbody tr th {\n",
       "        vertical-align: top;\n",
       "    }\n",
       "\n",
       "    .dataframe thead th {\n",
       "        text-align: right;\n",
       "    }\n",
       "</style>\n",
       "<table border=\"1\" class=\"dataframe\">\n",
       "  <thead>\n",
       "    <tr style=\"text-align: right;\">\n",
       "      <th></th>\n",
       "      <th>AccountWeeks</th>\n",
       "      <th>DataUsage</th>\n",
       "      <th>CustServCalls</th>\n",
       "      <th>DayMins</th>\n",
       "      <th>DayCalls</th>\n",
       "      <th>MonthlyCharge</th>\n",
       "      <th>OverageFee</th>\n",
       "      <th>RoamMins</th>\n",
       "    </tr>\n",
       "  </thead>\n",
       "  <tbody>\n",
       "    <tr>\n",
       "      <th>count</th>\n",
       "      <td>3303.000000</td>\n",
       "      <td>3317.000000</td>\n",
       "      <td>3281.000000</td>\n",
       "      <td>3298.000000</td>\n",
       "      <td>3322.000000</td>\n",
       "      <td>3320.000000</td>\n",
       "      <td>3309.000000</td>\n",
       "      <td>3326.000000</td>\n",
       "    </tr>\n",
       "    <tr>\n",
       "      <th>mean</th>\n",
       "      <td>101.159552</td>\n",
       "      <td>0.814827</td>\n",
       "      <td>1.563852</td>\n",
       "      <td>179.863069</td>\n",
       "      <td>100.434377</td>\n",
       "      <td>56.288735</td>\n",
       "      <td>10.048598</td>\n",
       "      <td>10.237974</td>\n",
       "    </tr>\n",
       "    <tr>\n",
       "      <th>std</th>\n",
       "      <td>39.879736</td>\n",
       "      <td>1.270329</td>\n",
       "      <td>1.318590</td>\n",
       "      <td>54.581440</td>\n",
       "      <td>20.079248</td>\n",
       "      <td>16.438343</td>\n",
       "      <td>2.539063</td>\n",
       "      <td>2.793192</td>\n",
       "    </tr>\n",
       "    <tr>\n",
       "      <th>min</th>\n",
       "      <td>1.000000</td>\n",
       "      <td>0.000000</td>\n",
       "      <td>0.000000</td>\n",
       "      <td>0.000000</td>\n",
       "      <td>0.000000</td>\n",
       "      <td>14.000000</td>\n",
       "      <td>0.000000</td>\n",
       "      <td>0.000000</td>\n",
       "    </tr>\n",
       "    <tr>\n",
       "      <th>25%</th>\n",
       "      <td>74.000000</td>\n",
       "      <td>0.000000</td>\n",
       "      <td>1.000000</td>\n",
       "      <td>143.700000</td>\n",
       "      <td>87.000000</td>\n",
       "      <td>45.000000</td>\n",
       "      <td>8.330000</td>\n",
       "      <td>8.500000</td>\n",
       "    </tr>\n",
       "    <tr>\n",
       "      <th>50%</th>\n",
       "      <td>101.000000</td>\n",
       "      <td>0.000000</td>\n",
       "      <td>1.000000</td>\n",
       "      <td>179.600000</td>\n",
       "      <td>101.000000</td>\n",
       "      <td>53.500000</td>\n",
       "      <td>10.070000</td>\n",
       "      <td>10.300000</td>\n",
       "    </tr>\n",
       "    <tr>\n",
       "      <th>75%</th>\n",
       "      <td>127.000000</td>\n",
       "      <td>1.780000</td>\n",
       "      <td>2.000000</td>\n",
       "      <td>216.700000</td>\n",
       "      <td>114.000000</td>\n",
       "      <td>66.125000</td>\n",
       "      <td>11.770000</td>\n",
       "      <td>12.100000</td>\n",
       "    </tr>\n",
       "    <tr>\n",
       "      <th>max</th>\n",
       "      <td>243.000000</td>\n",
       "      <td>5.400000</td>\n",
       "      <td>9.000000</td>\n",
       "      <td>350.800000</td>\n",
       "      <td>165.000000</td>\n",
       "      <td>111.300000</td>\n",
       "      <td>18.190000</td>\n",
       "      <td>20.000000</td>\n",
       "    </tr>\n",
       "  </tbody>\n",
       "</table>\n",
       "</div>"
      ],
      "text/plain": [
       "       AccountWeeks    DataUsage  CustServCalls      DayMins     DayCalls  \\\n",
       "count   3303.000000  3317.000000    3281.000000  3298.000000  3322.000000   \n",
       "mean     101.159552     0.814827       1.563852   179.863069   100.434377   \n",
       "std       39.879736     1.270329       1.318590    54.581440    20.079248   \n",
       "min        1.000000     0.000000       0.000000     0.000000     0.000000   \n",
       "25%       74.000000     0.000000       1.000000   143.700000    87.000000   \n",
       "50%      101.000000     0.000000       1.000000   179.600000   101.000000   \n",
       "75%      127.000000     1.780000       2.000000   216.700000   114.000000   \n",
       "max      243.000000     5.400000       9.000000   350.800000   165.000000   \n",
       "\n",
       "       MonthlyCharge   OverageFee     RoamMins  \n",
       "count    3320.000000  3309.000000  3326.000000  \n",
       "mean       56.288735    10.048598    10.237974  \n",
       "std        16.438343     2.539063     2.793192  \n",
       "min        14.000000     0.000000     0.000000  \n",
       "25%        45.000000     8.330000     8.500000  \n",
       "50%        53.500000    10.070000    10.300000  \n",
       "75%        66.125000    11.770000    12.100000  \n",
       "max       111.300000    18.190000    20.000000  "
      ]
     },
     "execution_count": 5,
     "metadata": {},
     "output_type": "execute_result"
    }
   ],
   "source": [
    "cell_df[['AccountWeeks','DataUsage','CustServCalls','DayMins','DayCalls','MonthlyCharge','OverageFee','RoamMins']].describe()"
   ]
  },
  {
   "cell_type": "markdown",
   "metadata": {},
   "source": [
    "### Check for Missing values"
   ]
  },
  {
   "cell_type": "code",
   "execution_count": 6,
   "metadata": {},
   "outputs": [
    {
     "data": {
      "text/plain": [
       "(3333, 11)"
      ]
     },
     "execution_count": 6,
     "metadata": {},
     "output_type": "execute_result"
    }
   ],
   "source": [
    "cell_df.shape"
   ]
  },
  {
   "cell_type": "code",
   "execution_count": 7,
   "metadata": {
    "ExecuteTime": {
     "end_time": "2020-07-31T11:26:25.272563Z",
     "start_time": "2020-07-31T11:26:25.165850Z"
    },
    "scrolled": true
   },
   "outputs": [
    {
     "data": {
      "text/plain": [
       "Churn               0\n",
       "AccountWeeks       30\n",
       "ContractRenewal    18\n",
       "DataPlan            9\n",
       "DataUsage          16\n",
       "CustServCalls      52\n",
       "DayMins            35\n",
       "DayCalls           11\n",
       "MonthlyCharge      13\n",
       "OverageFee         24\n",
       "RoamMins            7\n",
       "dtype: int64"
      ]
     },
     "execution_count": 7,
     "metadata": {},
     "output_type": "execute_result"
    }
   ],
   "source": [
    "cell_df.isnull().sum()"
   ]
  },
  {
   "cell_type": "code",
   "execution_count": 8,
   "metadata": {},
   "outputs": [
    {
     "data": {
      "text/plain": [
       "215"
      ]
     },
     "execution_count": 8,
     "metadata": {},
     "output_type": "execute_result"
    }
   ],
   "source": [
    "cell_df.isnull().sum().sum()"
   ]
  },
  {
   "cell_type": "code",
   "execution_count": 9,
   "metadata": {},
   "outputs": [
    {
     "data": {
      "text/plain": [
       "0.06450645064506451"
      ]
     },
     "execution_count": 9,
     "metadata": {},
     "output_type": "execute_result"
    }
   ],
   "source": [
    "cell_df.isnull().sum().sum()/cell_df.shape[0]"
   ]
  },
  {
   "cell_type": "markdown",
   "metadata": {},
   "source": [
    "### Imputing missing values"
   ]
  },
  {
   "cell_type": "markdown",
   "metadata": {},
   "source": [
    "Since, ContractRenewal and DataPlan are binary, we cannot substitute with mean values for these 2 variables. We will impute these two variables with their respective modal values."
   ]
  },
  {
   "cell_type": "code",
   "execution_count": 10,
   "metadata": {
    "ExecuteTime": {
     "end_time": "2020-07-31T11:26:25.365316Z",
     "start_time": "2020-07-31T11:26:25.274558Z"
    }
   },
   "outputs": [
    {
     "name": "stdout",
     "output_type": "stream",
     "text": [
      "ContractRenewal\n",
      "1.0\n",
      "DataPlan\n",
      "0.0\n"
     ]
    },
    {
     "data": {
      "text/plain": [
       "Churn               0\n",
       "AccountWeeks       30\n",
       "ContractRenewal     0\n",
       "DataPlan            0\n",
       "DataUsage          16\n",
       "CustServCalls      52\n",
       "DayMins            35\n",
       "DayCalls           11\n",
       "MonthlyCharge      13\n",
       "OverageFee         24\n",
       "RoamMins            7\n",
       "dtype: int64"
      ]
     },
     "execution_count": 10,
     "metadata": {},
     "output_type": "execute_result"
    }
   ],
   "source": [
    "cols = ['ContractRenewal','DataPlan']\n",
    "for column in cols:\n",
    "    print(column)\n",
    "    mode_1 = cell_df[column].mode()[0]\n",
    "    print(mode_1)\n",
    "    cell_df[column].fillna(value=mode_1,inplace=True)\n",
    "    \n",
    "cell_df.isnull().sum()"
   ]
  },
  {
   "cell_type": "markdown",
   "metadata": {},
   "source": [
    "Now let us impute the rest of the continuous variables with the median. For that we are going to use the SimpleImputer sub module from sklearn."
   ]
  },
  {
   "cell_type": "code",
   "execution_count": 11,
   "metadata": {},
   "outputs": [
    {
     "data": {
      "text/plain": [
       "Churn              0\n",
       "AccountWeeks       0\n",
       "ContractRenewal    0\n",
       "DataPlan           0\n",
       "DataUsage          0\n",
       "CustServCalls      0\n",
       "DayMins            0\n",
       "DayCalls           0\n",
       "MonthlyCharge      0\n",
       "OverageFee         0\n",
       "RoamMins           0\n",
       "dtype: int64"
      ]
     },
     "execution_count": 11,
     "metadata": {},
     "output_type": "execute_result"
    }
   ],
   "source": [
    "for col in cell_df.columns:\n",
    "    if col not in cell_df['ContractRenewal'] or cell_df['DataPlan']:\n",
    "        median = cell_df[col].median()\n",
    "        cell_df[col] = cell_df[col].fillna(median)\n",
    "\n",
    "cell_df.isnull().sum()"
   ]
  },
  {
   "cell_type": "code",
   "execution_count": 12,
   "metadata": {
    "ExecuteTime": {
     "end_time": "2020-07-31T11:26:25.479013Z",
     "start_time": "2020-07-31T11:26:25.368308Z"
    }
   },
   "outputs": [],
   "source": [
    "from sklearn.impute import SimpleImputer"
   ]
  },
  {
   "cell_type": "code",
   "execution_count": 13,
   "metadata": {
    "ExecuteTime": {
     "end_time": "2020-07-31T11:26:25.569324Z",
     "start_time": "2020-07-31T11:26:25.481007Z"
    }
   },
   "outputs": [],
   "source": [
    "SI = SimpleImputer(strategy='median')"
   ]
  },
  {
   "cell_type": "code",
   "execution_count": 14,
   "metadata": {
    "ExecuteTime": {
     "end_time": "2020-07-31T11:26:25.669560Z",
     "start_time": "2020-07-31T11:26:25.574272Z"
    }
   },
   "outputs": [],
   "source": [
    "cell_df = pd.DataFrame(SI.fit_transform(cell_df),columns=cell_df.columns)"
   ]
  },
  {
   "cell_type": "code",
   "execution_count": 15,
   "metadata": {
    "ExecuteTime": {
     "end_time": "2020-07-31T11:26:25.764771Z",
     "start_time": "2020-07-31T11:26:25.671359Z"
    }
   },
   "outputs": [
    {
     "data": {
      "text/html": [
       "<div>\n",
       "<style scoped>\n",
       "    .dataframe tbody tr th:only-of-type {\n",
       "        vertical-align: middle;\n",
       "    }\n",
       "\n",
       "    .dataframe tbody tr th {\n",
       "        vertical-align: top;\n",
       "    }\n",
       "\n",
       "    .dataframe thead th {\n",
       "        text-align: right;\n",
       "    }\n",
       "</style>\n",
       "<table border=\"1\" class=\"dataframe\">\n",
       "  <thead>\n",
       "    <tr style=\"text-align: right;\">\n",
       "      <th></th>\n",
       "      <th>Churn</th>\n",
       "      <th>AccountWeeks</th>\n",
       "      <th>ContractRenewal</th>\n",
       "      <th>DataPlan</th>\n",
       "      <th>DataUsage</th>\n",
       "      <th>CustServCalls</th>\n",
       "      <th>DayMins</th>\n",
       "      <th>DayCalls</th>\n",
       "      <th>MonthlyCharge</th>\n",
       "      <th>OverageFee</th>\n",
       "      <th>RoamMins</th>\n",
       "    </tr>\n",
       "  </thead>\n",
       "  <tbody>\n",
       "    <tr>\n",
       "      <th>0</th>\n",
       "      <td>1.0</td>\n",
       "      <td>108.0</td>\n",
       "      <td>0.0</td>\n",
       "      <td>0.0</td>\n",
       "      <td>0.38</td>\n",
       "      <td>2.0</td>\n",
       "      <td>115.1</td>\n",
       "      <td>114.0</td>\n",
       "      <td>41.8</td>\n",
       "      <td>10.57</td>\n",
       "      <td>13.8</td>\n",
       "    </tr>\n",
       "    <tr>\n",
       "      <th>1</th>\n",
       "      <td>0.0</td>\n",
       "      <td>113.0</td>\n",
       "      <td>1.0</td>\n",
       "      <td>1.0</td>\n",
       "      <td>3.59</td>\n",
       "      <td>1.0</td>\n",
       "      <td>44.9</td>\n",
       "      <td>63.0</td>\n",
       "      <td>55.9</td>\n",
       "      <td>6.71</td>\n",
       "      <td>13.3</td>\n",
       "    </tr>\n",
       "    <tr>\n",
       "      <th>2</th>\n",
       "      <td>0.0</td>\n",
       "      <td>101.0</td>\n",
       "      <td>1.0</td>\n",
       "      <td>0.0</td>\n",
       "      <td>0.00</td>\n",
       "      <td>0.0</td>\n",
       "      <td>257.3</td>\n",
       "      <td>84.0</td>\n",
       "      <td>60.0</td>\n",
       "      <td>9.24</td>\n",
       "      <td>13.5</td>\n",
       "    </tr>\n",
       "    <tr>\n",
       "      <th>3</th>\n",
       "      <td>0.0</td>\n",
       "      <td>80.0</td>\n",
       "      <td>1.0</td>\n",
       "      <td>1.0</td>\n",
       "      <td>2.89</td>\n",
       "      <td>4.0</td>\n",
       "      <td>166.4</td>\n",
       "      <td>92.0</td>\n",
       "      <td>77.9</td>\n",
       "      <td>11.92</td>\n",
       "      <td>10.7</td>\n",
       "    </tr>\n",
       "    <tr>\n",
       "      <th>4</th>\n",
       "      <td>0.0</td>\n",
       "      <td>70.0</td>\n",
       "      <td>1.0</td>\n",
       "      <td>0.0</td>\n",
       "      <td>0.00</td>\n",
       "      <td>0.0</td>\n",
       "      <td>175.4</td>\n",
       "      <td>130.0</td>\n",
       "      <td>44.0</td>\n",
       "      <td>7.98</td>\n",
       "      <td>11.6</td>\n",
       "    </tr>\n",
       "  </tbody>\n",
       "</table>\n",
       "</div>"
      ],
      "text/plain": [
       "   Churn  AccountWeeks  ContractRenewal  DataPlan  DataUsage  CustServCalls  \\\n",
       "0    1.0         108.0              0.0       0.0       0.38            2.0   \n",
       "1    0.0         113.0              1.0       1.0       3.59            1.0   \n",
       "2    0.0         101.0              1.0       0.0       0.00            0.0   \n",
       "3    0.0          80.0              1.0       1.0       2.89            4.0   \n",
       "4    0.0          70.0              1.0       0.0       0.00            0.0   \n",
       "\n",
       "   DayMins  DayCalls  MonthlyCharge  OverageFee  RoamMins  \n",
       "0    115.1     114.0           41.8       10.57      13.8  \n",
       "1     44.9      63.0           55.9        6.71      13.3  \n",
       "2    257.3      84.0           60.0        9.24      13.5  \n",
       "3    166.4      92.0           77.9       11.92      10.7  \n",
       "4    175.4     130.0           44.0        7.98      11.6  "
      ]
     },
     "execution_count": 15,
     "metadata": {},
     "output_type": "execute_result"
    }
   ],
   "source": [
    "cell_df.head()"
   ]
  },
  {
   "cell_type": "code",
   "execution_count": 81,
   "metadata": {
    "ExecuteTime": {
     "end_time": "2020-07-31T11:26:25.865310Z",
     "start_time": "2020-07-31T11:26:25.766767Z"
    }
   },
   "outputs": [
    {
     "data": {
      "text/plain": [
       "Churn              0\n",
       "AccountWeeks       0\n",
       "ContractRenewal    0\n",
       "DataPlan           0\n",
       "DataUsage          0\n",
       "CustServCalls      0\n",
       "DayMins            0\n",
       "DayCalls           0\n",
       "MonthlyCharge      0\n",
       "OverageFee         0\n",
       "RoamMins           0\n",
       "dtype: int64"
      ]
     },
     "execution_count": 81,
     "metadata": {},
     "output_type": "execute_result"
    }
   ],
   "source": [
    "cell_df.isnull().sum()"
   ]
  },
  {
   "cell_type": "markdown",
   "metadata": {},
   "source": [
    "### Checking for Duplicates"
   ]
  },
  {
   "cell_type": "code",
   "execution_count": 13,
   "metadata": {
    "ExecuteTime": {
     "end_time": "2020-07-31T11:26:25.982741Z",
     "start_time": "2020-07-31T11:26:25.867305Z"
    }
   },
   "outputs": [
    {
     "name": "stdout",
     "output_type": "stream",
     "text": [
      "Number of duplicate rows = 0\n"
     ]
    }
   ],
   "source": [
    "# Are there any duplicates ?\n",
    "dups = cell_df.duplicated()\n",
    "print('Number of duplicate rows = %d' % (dups.sum()))\n",
    "#df[dups]"
   ]
  },
  {
   "cell_type": "markdown",
   "metadata": {},
   "source": [
    "### Proportion in the Target classes"
   ]
  },
  {
   "cell_type": "code",
   "execution_count": 14,
   "metadata": {
    "ExecuteTime": {
     "end_time": "2020-07-31T11:26:26.084255Z",
     "start_time": "2020-07-31T11:26:25.985732Z"
    }
   },
   "outputs": [
    {
     "data": {
      "text/plain": [
       "0    0.855086\n",
       "1    0.144914\n",
       "Name: Churn, dtype: float64"
      ]
     },
     "execution_count": 14,
     "metadata": {},
     "output_type": "execute_result"
    }
   ],
   "source": [
    "cell_df.Churn.value_counts(normalize=True)"
   ]
  },
  {
   "cell_type": "markdown",
   "metadata": {},
   "source": [
    "### Distribution of the variables Check"
   ]
  },
  {
   "cell_type": "code",
   "execution_count": 15,
   "metadata": {
    "ExecuteTime": {
     "end_time": "2020-07-31T11:26:26.191696Z",
     "start_time": "2020-07-31T11:26:26.085217Z"
    }
   },
   "outputs": [],
   "source": [
    "from pylab import rcParams"
   ]
  },
  {
   "cell_type": "code",
   "execution_count": 16,
   "metadata": {
    "ExecuteTime": {
     "end_time": "2020-07-31T11:26:26.281617Z",
     "start_time": "2020-07-31T11:26:26.194689Z"
    }
   },
   "outputs": [],
   "source": [
    "rcParams['figure.figsize'] = 10,8"
   ]
  },
  {
   "cell_type": "code",
   "execution_count": 17,
   "metadata": {},
   "outputs": [],
   "source": [
    "l = ['AccountWeeks','DataUsage','CustServCalls','DayMins','DayCalls','MonthlyCharge','OverageFee','RoamMins']"
   ]
  },
  {
   "cell_type": "code",
   "execution_count": 18,
   "metadata": {
    "ExecuteTime": {
     "end_time": "2020-07-31T11:26:27.290826Z",
     "start_time": "2020-07-31T11:26:26.284647Z"
    },
    "scrolled": false
   },
   "outputs": [
    {
     "data": {
      "image/png": "[encoded data removed]",
      "text/plain": [
       "<Figure size 720x576 with 9 Axes>"
      ]
     },
     "metadata": {
      "needs_background": "light"
     },
     "output_type": "display_data"
    }
   ],
   "source": [
    "cell_df[l].hist();"
   ]
  },
  {
   "cell_type": "markdown",
   "metadata": {},
   "source": [
    "### Outlier Checks"
   ]
  },
  {
   "cell_type": "code",
   "execution_count": 19,
   "metadata": {
    "ExecuteTime": {
     "end_time": "2020-07-31T11:26:28.108637Z",
     "start_time": "2020-07-31T11:26:27.292821Z"
    },
    "scrolled": false
   },
   "outputs": [
    {
     "name": "stderr",
     "output_type": "stream",
     "text": [
      "C:\\Users\\KAUSTHAB DUTTA\\anaconda3\\lib\\site-packages\\seaborn\\_decorators.py:36: FutureWarning: Pass the following variable as a keyword arg: x. From version 0.12, the only valid positional argument will be `data`, and passing other arguments without an explicit keyword will result in an error or misinterpretation.\n",
      "  warnings.warn(\n"
     ]
    },
    {
     "data": {
      "image/png": "[encoded data removed]",
      "text/plain": [
       "<Figure size 720x576 with 1 Axes>"
      ]
     },
     "metadata": {
      "needs_background": "light"
     },
     "output_type": "display_data"
    },
    {
     "name": "stderr",
     "output_type": "stream",
     "text": [
      "C:\\Users\\KAUSTHAB DUTTA\\anaconda3\\lib\\site-packages\\seaborn\\_decorators.py:36: FutureWarning: Pass the following variable as a keyword arg: x. From version 0.12, the only valid positional argument will be `data`, and passing other arguments without an explicit keyword will result in an error or misinterpretation.\n",
      "  warnings.warn(\n"
     ]
    },
    {
     "data": {
      "image/png": "[encoded data removed]",
      "text/plain": [
       "<Figure size 720x576 with 1 Axes>"
      ]
     },
     "metadata": {
      "needs_background": "light"
     },
     "output_type": "display_data"
    },
    {
     "name": "stderr",
     "output_type": "stream",
     "text": [
      "C:\\Users\\KAUSTHAB DUTTA\\anaconda3\\lib\\site-packages\\seaborn\\_decorators.py:36: FutureWarning: Pass the following variable as a keyword arg: x. From version 0.12, the only valid positional argument will be `data`, and passing other arguments without an explicit keyword will result in an error or misinterpretation.\n",
      "  warnings.warn(\n"
     ]
    },
    {
     "data": {
      "image/png": "[encoded data removed]",
      "text/plain": [
       "<Figure size 720x576 with 1 Axes>"
      ]
     },
     "metadata": {
      "needs_background": "light"
     },
     "output_type": "display_data"
    },
    {
     "name": "stderr",
     "output_type": "stream",
     "text": [
      "C:\\Users\\KAUSTHAB DUTTA\\anaconda3\\lib\\site-packages\\seaborn\\_decorators.py:36: FutureWarning: Pass the following variable as a keyword arg: x. From version 0.12, the only valid positional argument will be `data`, and passing other arguments without an explicit keyword will result in an error or misinterpretation.\n",
      "  warnings.warn(\n"
     ]
    },
    {
     "data": {
      "image/png": "[encoded data removed]",
      "text/plain": [
       "<Figure size 720x576 with 1 Axes>"
      ]
     },
     "metadata": {
      "needs_background": "light"
     },
     "output_type": "display_data"
    },
    {
     "name": "stderr",
     "output_type": "stream",
     "text": [
      "C:\\Users\\KAUSTHAB DUTTA\\anaconda3\\lib\\site-packages\\seaborn\\_decorators.py:36: FutureWarning: Pass the following variable as a keyword arg: x. From version 0.12, the only valid positional argument will be `data`, and passing other arguments without an explicit keyword will result in an error or misinterpretation.\n",
      "  warnings.warn(\n"
     ]
    },
    {
     "data": {
      "image/png": "[encoded data removed]",
      "text/plain": [
       "<Figure size 720x576 with 1 Axes>"
      ]
     },
     "metadata": {
      "needs_background": "light"
     },
     "output_type": "display_data"
    },
    {
     "name": "stderr",
     "output_type": "stream",
     "text": [
      "C:\\Users\\KAUSTHAB DUTTA\\anaconda3\\lib\\site-packages\\seaborn\\_decorators.py:36: FutureWarning: Pass the following variable as a keyword arg: x. From version 0.12, the only valid positional argument will be `data`, and passing other arguments without an explicit keyword will result in an error or misinterpretation.\n",
      "  warnings.warn(\n"
     ]
    },
    {
     "data": {
      "image/png": "[encoded data removed]",
      "text/plain": [
       "<Figure size 720x576 with 1 Axes>"
      ]
     },
     "metadata": {
      "needs_background": "light"
     },
     "output_type": "display_data"
    },
    {
     "name": "stderr",
     "output_type": "stream",
     "text": [
      "C:\\Users\\KAUSTHAB DUTTA\\anaconda3\\lib\\site-packages\\seaborn\\_decorators.py:36: FutureWarning: Pass the following variable as a keyword arg: x. From version 0.12, the only valid positional argument will be `data`, and passing other arguments without an explicit keyword will result in an error or misinterpretation.\n",
      "  warnings.warn(\n"
     ]
    },
    {
     "data": {
      "image/png": "[encoded data removed]",
      "text/plain": [
       "<Figure size 720x576 with 1 Axes>"
      ]
     },
     "metadata": {
      "needs_background": "light"
     },
     "output_type": "display_data"
    },
    {
     "name": "stderr",
     "output_type": "stream",
     "text": [
      "C:\\Users\\KAUSTHAB DUTTA\\anaconda3\\lib\\site-packages\\seaborn\\_decorators.py:36: FutureWarning: Pass the following variable as a keyword arg: x. From version 0.12, the only valid positional argument will be `data`, and passing other arguments without an explicit keyword will result in an error or misinterpretation.\n",
      "  warnings.warn(\n"
     ]
    },
    {
     "data": {
      "image/png": "[encoded data removed]",
      "text/plain": [
       "<Figure size 720x576 with 1 Axes>"
      ]
     },
     "metadata": {
      "needs_background": "light"
     },
     "output_type": "display_data"
    }
   ],
   "source": [
    "cols=['AccountWeeks','DataUsage','CustServCalls','DayMins','DayCalls','MonthlyCharge','OverageFee','RoamMins'];\n",
    "\n",
    "for i in cols:\n",
    "    sns.boxplot(cell_df[i])\n",
    "    plt.show()\n"
   ]
  },
  {
   "cell_type": "markdown",
   "metadata": {},
   "source": [
    "Although outliers exists as per the boxplot, by looking at the data distribution in describe(), the values are not too far away. \n",
    "Treating the outliers by converting them to min/max values will cause most variables to have values to be the same. So, outliers are not treated in this case"
   ]
  },
  {
   "cell_type": "markdown",
   "metadata": {},
   "source": [
    "### Bi-Variate Analysis with Target variable"
   ]
  },
  {
   "cell_type": "markdown",
   "metadata": {},
   "source": [
    "<b>Account Weeks and Churn</b>"
   ]
  },
  {
   "cell_type": "code",
   "execution_count": 20,
   "metadata": {
    "ExecuteTime": {
     "end_time": "2020-07-31T11:26:28.229351Z",
     "start_time": "2020-07-31T11:26:28.109636Z"
    }
   },
   "outputs": [
    {
     "name": "stderr",
     "output_type": "stream",
     "text": [
      "C:\\Users\\KAUSTHAB DUTTA\\anaconda3\\lib\\site-packages\\seaborn\\_decorators.py:36: FutureWarning: Pass the following variables as keyword args: x, y. From version 0.12, the only valid positional argument will be `data`, and passing other arguments without an explicit keyword will result in an error or misinterpretation.\n",
      "  warnings.warn(\n"
     ]
    },
    {
     "data": {
      "image/png": "[encoded data removed]",
      "text/plain": [
       "<Figure size 720x576 with 1 Axes>"
      ]
     },
     "metadata": {
      "needs_background": "light"
     },
     "output_type": "display_data"
    }
   ],
   "source": [
    "sns.boxplot(cell_df['Churn'],cell_df['AccountWeeks']);"
   ]
  },
  {
   "cell_type": "markdown",
   "metadata": {},
   "source": [
    "AccountWeeks shows similar distribution between churn and no churn, and is normally distributed"
   ]
  },
  {
   "cell_type": "markdown",
   "metadata": {},
   "source": [
    "<b>Data Usage against Churn</b>"
   ]
  },
  {
   "cell_type": "code",
   "execution_count": 21,
   "metadata": {
    "ExecuteTime": {
     "end_time": "2020-07-31T11:26:28.350026Z",
     "start_time": "2020-07-31T11:26:28.230312Z"
    }
   },
   "outputs": [
    {
     "name": "stderr",
     "output_type": "stream",
     "text": [
      "C:\\Users\\KAUSTHAB DUTTA\\anaconda3\\lib\\site-packages\\seaborn\\_decorators.py:36: FutureWarning: Pass the following variables as keyword args: x, y. From version 0.12, the only valid positional argument will be `data`, and passing other arguments without an explicit keyword will result in an error or misinterpretation.\n",
      "  warnings.warn(\n"
     ]
    },
    {
     "data": {
      "image/png": "[encoded data removed]",
      "text/plain": [
       "<Figure size 720x576 with 1 Axes>"
      ]
     },
     "metadata": {
      "needs_background": "light"
     },
     "output_type": "display_data"
    }
   ],
   "source": [
    "sns.boxplot(cell_df['Churn'],cell_df['DataUsage']);"
   ]
  },
  {
   "cell_type": "markdown",
   "metadata": {},
   "source": [
    "DataUsage shows clear distinction between churn and no churn. Customers who has not churned shows a wider distribution indicating more data usage. Whereas customers who has churned has smaller distribution (mostly near data usage 0) with many outliers indicating few customers who has more data usage still has churned"
   ]
  },
  {
   "cell_type": "markdown",
   "metadata": {},
   "source": [
    "<b>DayMins against Churn</b>"
   ]
  },
  {
   "cell_type": "code",
   "execution_count": 22,
   "metadata": {
    "ExecuteTime": {
     "end_time": "2020-07-31T11:26:28.471666Z",
     "start_time": "2020-07-31T11:26:28.350990Z"
    }
   },
   "outputs": [
    {
     "name": "stderr",
     "output_type": "stream",
     "text": [
      "C:\\Users\\KAUSTHAB DUTTA\\anaconda3\\lib\\site-packages\\seaborn\\_decorators.py:36: FutureWarning: Pass the following variables as keyword args: x, y. From version 0.12, the only valid positional argument will be `data`, and passing other arguments without an explicit keyword will result in an error or misinterpretation.\n",
      "  warnings.warn(\n"
     ]
    },
    {
     "data": {
      "image/png": "[encoded data removed]",
      "text/plain": [
       "<Figure size 720x576 with 1 Axes>"
      ]
     },
     "metadata": {
      "needs_background": "light"
     },
     "output_type": "display_data"
    }
   ],
   "source": [
    "sns.boxplot(cell_df['Churn'],cell_df['DayMins']);"
   ]
  },
  {
   "cell_type": "markdown",
   "metadata": {},
   "source": [
    "DayMins shows distinction between churn and no churn, and both are normally distributed with little skewness. Distribution is much wider for churn than no churn"
   ]
  },
  {
   "cell_type": "markdown",
   "metadata": {},
   "source": [
    "<b>DayCalls against Churn</b>"
   ]
  },
  {
   "cell_type": "code",
   "execution_count": 23,
   "metadata": {
    "ExecuteTime": {
     "end_time": "2020-07-31T11:26:28.590383Z",
     "start_time": "2020-07-31T11:26:28.472666Z"
    }
   },
   "outputs": [
    {
     "name": "stderr",
     "output_type": "stream",
     "text": [
      "C:\\Users\\KAUSTHAB DUTTA\\anaconda3\\lib\\site-packages\\seaborn\\_decorators.py:36: FutureWarning: Pass the following variables as keyword args: x, y. From version 0.12, the only valid positional argument will be `data`, and passing other arguments without an explicit keyword will result in an error or misinterpretation.\n",
      "  warnings.warn(\n"
     ]
    },
    {
     "data": {
      "image/png": "[encoded data removed]",
      "text/plain": [
       "<Figure size 720x576 with 1 Axes>"
      ]
     },
     "metadata": {
      "needs_background": "light"
     },
     "output_type": "display_data"
    }
   ],
   "source": [
    "sns.boxplot(cell_df['Churn'],cell_df['DayCalls']);"
   ]
  },
  {
   "cell_type": "markdown",
   "metadata": {},
   "source": [
    "DayCalls shows similar distribution between churn and no churn, and is normally distributed"
   ]
  },
  {
   "cell_type": "markdown",
   "metadata": {},
   "source": [
    "<b>MonthlyCharge against Churn</b>"
   ]
  },
  {
   "cell_type": "code",
   "execution_count": 24,
   "metadata": {
    "ExecuteTime": {
     "end_time": "2020-07-31T11:26:28.837608Z",
     "start_time": "2020-07-31T11:26:28.594340Z"
    }
   },
   "outputs": [
    {
     "name": "stderr",
     "output_type": "stream",
     "text": [
      "C:\\Users\\KAUSTHAB DUTTA\\anaconda3\\lib\\site-packages\\seaborn\\_decorators.py:36: FutureWarning: Pass the following variables as keyword args: x, y. From version 0.12, the only valid positional argument will be `data`, and passing other arguments without an explicit keyword will result in an error or misinterpretation.\n",
      "  warnings.warn(\n"
     ]
    },
    {
     "data": {
      "image/png": "[encoded data removed]",
      "text/plain": [
       "<Figure size 720x576 with 1 Axes>"
      ]
     },
     "metadata": {
      "needs_background": "light"
     },
     "output_type": "display_data"
    }
   ],
   "source": [
    "sns.boxplot(cell_df['Churn'],cell_df['MonthlyCharge']);"
   ]
  },
  {
   "cell_type": "markdown",
   "metadata": {},
   "source": [
    "MonthlyCharge shows some skewness in the distribution between churn and no churn. Distribution is much wider for churn indicating more monthly charge means more churn. Median of churn is higher than no churn"
   ]
  },
  {
   "cell_type": "markdown",
   "metadata": {},
   "source": [
    "<b>OverageFee against Churn</b>"
   ]
  },
  {
   "cell_type": "code",
   "execution_count": 25,
   "metadata": {
    "ExecuteTime": {
     "end_time": "2020-07-31T11:26:29.049491Z",
     "start_time": "2020-07-31T11:26:28.839562Z"
    }
   },
   "outputs": [
    {
     "name": "stderr",
     "output_type": "stream",
     "text": [
      "C:\\Users\\KAUSTHAB DUTTA\\anaconda3\\lib\\site-packages\\seaborn\\_decorators.py:36: FutureWarning: Pass the following variables as keyword args: x, y. From version 0.12, the only valid positional argument will be `data`, and passing other arguments without an explicit keyword will result in an error or misinterpretation.\n",
      "  warnings.warn(\n"
     ]
    },
    {
     "data": {
      "image/png": "[encoded data removed]",
      "text/plain": [
       "<Figure size 720x576 with 1 Axes>"
      ]
     },
     "metadata": {
      "needs_background": "light"
     },
     "output_type": "display_data"
    }
   ],
   "source": [
    "sns.boxplot(cell_df['Churn'],cell_df['OverageFee']);"
   ]
  },
  {
   "cell_type": "markdown",
   "metadata": {},
   "source": [
    "Distribution is almost similar between churn and no churn"
   ]
  },
  {
   "cell_type": "markdown",
   "metadata": {},
   "source": [
    "<b>RoamMins against Churn</b>"
   ]
  },
  {
   "cell_type": "code",
   "execution_count": 26,
   "metadata": {
    "ExecuteTime": {
     "end_time": "2020-07-31T11:26:29.237990Z",
     "start_time": "2020-07-31T11:26:29.051486Z"
    }
   },
   "outputs": [
    {
     "name": "stderr",
     "output_type": "stream",
     "text": [
      "C:\\Users\\KAUSTHAB DUTTA\\anaconda3\\lib\\site-packages\\seaborn\\_decorators.py:36: FutureWarning: Pass the following variables as keyword args: x, y. From version 0.12, the only valid positional argument will be `data`, and passing other arguments without an explicit keyword will result in an error or misinterpretation.\n",
      "  warnings.warn(\n"
     ]
    },
    {
     "data": {
      "image/png": "[encoded data removed]",
      "text/plain": [
       "<Figure size 720x576 with 1 Axes>"
      ]
     },
     "metadata": {
      "needs_background": "light"
     },
     "output_type": "display_data"
    }
   ],
   "source": [
    "sns.boxplot(cell_df['Churn'],cell_df['RoamMins']);"
   ]
  },
  {
   "cell_type": "markdown",
   "metadata": {},
   "source": [
    "Distribution is almost similar between churn and no churn. Medians are almost same"
   ]
  },
  {
   "cell_type": "markdown",
   "metadata": {},
   "source": [
    "<b>CustServCalls against Churn</b>"
   ]
  },
  {
   "cell_type": "code",
   "execution_count": 27,
   "metadata": {
    "ExecuteTime": {
     "end_time": "2020-07-31T11:26:29.448268Z",
     "start_time": "2020-07-31T11:26:29.238983Z"
    }
   },
   "outputs": [
    {
     "name": "stderr",
     "output_type": "stream",
     "text": [
      "C:\\Users\\KAUSTHAB DUTTA\\anaconda3\\lib\\site-packages\\seaborn\\_decorators.py:36: FutureWarning: Pass the following variables as keyword args: x, y. From version 0.12, the only valid positional argument will be `data`, and passing other arguments without an explicit keyword will result in an error or misinterpretation.\n",
      "  warnings.warn(\n"
     ]
    },
    {
     "data": {
      "image/png": "[encoded data removed]",
      "text/plain": [
       "<Figure size 720x576 with 1 Axes>"
      ]
     },
     "metadata": {
      "needs_background": "light"
     },
     "output_type": "display_data"
    }
   ],
   "source": [
    "sns.boxplot(cell_df['Churn'],cell_df['CustServCalls']);"
   ]
  },
  {
   "cell_type": "markdown",
   "metadata": {},
   "source": [
    "Distribution much wider for churn and lesser for no churn. More CustServCalls indicates more churn."
   ]
  },
  {
   "cell_type": "markdown",
   "metadata": {},
   "source": [
    "<b>Contract Renewal against Churn</b>"
   ]
  },
  {
   "cell_type": "code",
   "execution_count": 29,
   "metadata": {},
   "outputs": [
    {
     "data": {
      "text/plain": [
       "1.0    3011\n",
       "0.0     322\n",
       "Name: ContractRenewal, dtype: int64"
      ]
     },
     "execution_count": 29,
     "metadata": {},
     "output_type": "execute_result"
    }
   ],
   "source": [
    "cell_df['ContractRenewal'].value_counts()"
   ]
  },
  {
   "cell_type": "code",
   "execution_count": 28,
   "metadata": {
    "ExecuteTime": {
     "end_time": "2020-07-31T11:26:29.655610Z",
     "start_time": "2020-07-31T11:26:29.449226Z"
    },
    "scrolled": false
   },
   "outputs": [
    {
     "name": "stderr",
     "output_type": "stream",
     "text": [
      "C:\\Users\\KAUSTHAB DUTTA\\anaconda3\\lib\\site-packages\\seaborn\\_decorators.py:36: FutureWarning: Pass the following variable as a keyword arg: x. From version 0.12, the only valid positional argument will be `data`, and passing other arguments without an explicit keyword will result in an error or misinterpretation.\n",
      "  warnings.warn(\n"
     ]
    },
    {
     "data": {
      "image/png": "[encoded data removed]",
      "text/plain": [
       "<Figure size 720x576 with 1 Axes>"
      ]
     },
     "metadata": {
      "needs_background": "light"
     },
     "output_type": "display_data"
    }
   ],
   "source": [
    "sns.countplot(cell_df['ContractRenewal'],hue=cell_df['Churn']);"
   ]
  },
  {
   "cell_type": "markdown",
   "metadata": {},
   "source": [
    "The contract renewal is totally opposite to the churn as the churn value of 0 shows that the user not cancelled the service whereas the contract renewal of value 0 shows that user has not renewed the contract.  \n",
    "When customers has not renewed the contract, count of churn and no churn is almost same.  \n",
    "More customers who has renewed the contract has not churned."
   ]
  },
  {
   "cell_type": "markdown",
   "metadata": {},
   "source": [
    "<b>Data Plan against Churn</b>"
   ]
  },
  {
   "cell_type": "code",
   "execution_count": 31,
   "metadata": {},
   "outputs": [
    {
     "data": {
      "text/plain": [
       "0.0    2414\n",
       "1.0     919\n",
       "Name: DataPlan, dtype: int64"
      ]
     },
     "execution_count": 31,
     "metadata": {},
     "output_type": "execute_result"
    }
   ],
   "source": [
    "cell_df['DataPlan'].value_counts()"
   ]
  },
  {
   "cell_type": "code",
   "execution_count": 30,
   "metadata": {
    "scrolled": false
   },
   "outputs": [
    {
     "data": {
      "image/png": "[encoded data removed]",
      "text/plain": [
       "<Figure size 720x576 with 1 Axes>"
      ]
     },
     "metadata": {
      "needs_background": "light"
     },
     "output_type": "display_data"
    }
   ],
   "source": [
    "pd.crosstab(cell_df['DataPlan'],cell_df['Churn']).plot(kind='bar');"
   ]
  },
  {
   "cell_type": "code",
   "execution_count": 104,
   "metadata": {},
   "outputs": [
    {
     "data": {
      "text/plain": [
       "0.125"
      ]
     },
     "execution_count": 104,
     "metadata": {},
     "output_type": "execute_result"
    }
   ],
   "source": [
    "100/800"
   ]
  },
  {
   "cell_type": "code",
   "execution_count": 106,
   "metadata": {},
   "outputs": [
    {
     "data": {
      "text/plain": [
       "0.2"
      ]
     },
     "execution_count": 106,
     "metadata": {},
     "output_type": "execute_result"
    }
   ],
   "source": [
    "400/2000"
   ]
  },
  {
   "cell_type": "code",
   "execution_count": 57,
   "metadata": {
    "ExecuteTime": {
     "end_time": "2020-07-31T11:26:29.802217Z",
     "start_time": "2020-07-31T11:26:29.656569Z"
    },
    "scrolled": false
   },
   "outputs": [
    {
     "name": "stderr",
     "output_type": "stream",
     "text": [
      "C:\\Users\\KAUSTHAB DUTTA\\anaconda3\\lib\\site-packages\\seaborn\\_decorators.py:36: FutureWarning: Pass the following variable as a keyword arg: x. From version 0.12, the only valid positional argument will be `data`, and passing other arguments without an explicit keyword will result in an error or misinterpretation.\n",
      "  warnings.warn(\n"
     ]
    },
    {
     "data": {
      "image/png": "[encoded data removed]",
      "text/plain": [
       "<Figure size 1080x576 with 1 Axes>"
      ]
     },
     "metadata": {
      "needs_background": "light"
     },
     "output_type": "display_data"
    }
   ],
   "source": [
    "sns.countplot(cell_df['DataPlan'],hue=cell_df['Churn']);\n",
    "# pd.crosstab(cell_df['DataPlan'],cell_df['Churn']).plot(kind='bar');"
   ]
  },
  {
   "cell_type": "markdown",
   "metadata": {},
   "source": [
    "Very few people have opted for having a data plan. Almost one-fifth of the customers have churned irrespective of having a data plan nor not. There isn't any significant difference between churn and no churn here."
   ]
  },
  {
   "cell_type": "markdown",
   "metadata": {},
   "source": [
    "## Treating Outliers"
   ]
  },
  {
   "cell_type": "code",
   "execution_count": 32,
   "metadata": {},
   "outputs": [],
   "source": [
    "cols=['AccountWeeks','DataUsage','CustServCalls','DayMins','DayCalls','MonthlyCharge','OverageFee','RoamMins'];"
   ]
  },
  {
   "cell_type": "code",
   "execution_count": 33,
   "metadata": {},
   "outputs": [],
   "source": [
    "def remove_outlier(col):\n",
    "    sorted(col)\n",
    "    Q1,Q3=np.percentile(col,[25,75])\n",
    "    IQR=Q3-Q1\n",
    "    lower_range= Q1-(1.5 * IQR)\n",
    "    upper_range= Q3+(1.5 * IQR)\n",
    "    return lower_range, upper_range"
   ]
  },
  {
   "cell_type": "code",
   "execution_count": 34,
   "metadata": {},
   "outputs": [
    {
     "name": "stdout",
     "output_type": "stream",
     "text": [
      "Feature Name: AccountWeeks\n",
      "Lower Range : -5.5 \n",
      "Upper Range : 206.5\n",
      "Feature Name: DataUsage\n",
      "Lower Range : -2.64 \n",
      "Upper Range : 4.4\n",
      "Feature Name: CustServCalls\n",
      "Lower Range : -0.5 \n",
      "Upper Range : 3.5\n",
      "Feature Name: DayMins\n",
      "Lower Range : 35.95 \n",
      "Upper Range : 324.34999999999997\n",
      "Feature Name: DayCalls\n",
      "Lower Range : 46.5 \n",
      "Upper Range : 154.5\n",
      "Feature Name: MonthlyCharge\n",
      "Lower Range : 13.5 \n",
      "Upper Range : 97.5\n",
      "Feature Name: OverageFee\n",
      "Lower Range : 3.249999999999999 \n",
      "Upper Range : 16.85\n",
      "Feature Name: RoamMins\n",
      "Lower Range : 3.1000000000000005 \n",
      "Upper Range : 17.5\n"
     ]
    }
   ],
   "source": [
    "for i in cols:\n",
    "    \n",
    "    lr,ur=remove_outlier(cell_df[i])\n",
    "    print('Feature Name:', i)\n",
    "    print('Lower Range :',lr,'\\nUpper Range :',ur)\n",
    "    cell_df[i]=np.where(cell_df[i]>ur,ur,cell_df[i])\n",
    "    cell_df[i]=np.where(cell_df[i]<lr,lr,cell_df[i])"
   ]
  },
  {
   "cell_type": "code",
   "execution_count": 35,
   "metadata": {},
   "outputs": [
    {
     "data": {
      "text/html": [
       "<div>\n",
       "<style scoped>\n",
       "    .dataframe tbody tr th:only-of-type {\n",
       "        vertical-align: middle;\n",
       "    }\n",
       "\n",
       "    .dataframe tbody tr th {\n",
       "        vertical-align: top;\n",
       "    }\n",
       "\n",
       "    .dataframe thead th {\n",
       "        text-align: right;\n",
       "    }\n",
       "</style>\n",
       "<table border=\"1\" class=\"dataframe\">\n",
       "  <thead>\n",
       "    <tr style=\"text-align: right;\">\n",
       "      <th></th>\n",
       "      <th>Churn</th>\n",
       "      <th>AccountWeeks</th>\n",
       "      <th>ContractRenewal</th>\n",
       "      <th>DataPlan</th>\n",
       "      <th>DataUsage</th>\n",
       "      <th>CustServCalls</th>\n",
       "      <th>DayMins</th>\n",
       "      <th>DayCalls</th>\n",
       "      <th>MonthlyCharge</th>\n",
       "      <th>OverageFee</th>\n",
       "      <th>RoamMins</th>\n",
       "    </tr>\n",
       "  </thead>\n",
       "  <tbody>\n",
       "    <tr>\n",
       "      <th>0</th>\n",
       "      <td>1</td>\n",
       "      <td>108.0</td>\n",
       "      <td>0.0</td>\n",
       "      <td>0.0</td>\n",
       "      <td>0.38</td>\n",
       "      <td>2.0</td>\n",
       "      <td>115.1</td>\n",
       "      <td>114.0</td>\n",
       "      <td>41.8</td>\n",
       "      <td>10.57</td>\n",
       "      <td>13.8</td>\n",
       "    </tr>\n",
       "    <tr>\n",
       "      <th>1</th>\n",
       "      <td>0</td>\n",
       "      <td>113.0</td>\n",
       "      <td>1.0</td>\n",
       "      <td>1.0</td>\n",
       "      <td>3.59</td>\n",
       "      <td>1.0</td>\n",
       "      <td>44.9</td>\n",
       "      <td>63.0</td>\n",
       "      <td>55.9</td>\n",
       "      <td>6.71</td>\n",
       "      <td>13.3</td>\n",
       "    </tr>\n",
       "    <tr>\n",
       "      <th>2</th>\n",
       "      <td>0</td>\n",
       "      <td>101.0</td>\n",
       "      <td>1.0</td>\n",
       "      <td>0.0</td>\n",
       "      <td>0.00</td>\n",
       "      <td>0.0</td>\n",
       "      <td>257.3</td>\n",
       "      <td>84.0</td>\n",
       "      <td>60.0</td>\n",
       "      <td>9.24</td>\n",
       "      <td>13.5</td>\n",
       "    </tr>\n",
       "    <tr>\n",
       "      <th>3</th>\n",
       "      <td>0</td>\n",
       "      <td>80.0</td>\n",
       "      <td>1.0</td>\n",
       "      <td>1.0</td>\n",
       "      <td>2.89</td>\n",
       "      <td>3.5</td>\n",
       "      <td>166.4</td>\n",
       "      <td>92.0</td>\n",
       "      <td>77.9</td>\n",
       "      <td>11.92</td>\n",
       "      <td>10.7</td>\n",
       "    </tr>\n",
       "    <tr>\n",
       "      <th>4</th>\n",
       "      <td>0</td>\n",
       "      <td>70.0</td>\n",
       "      <td>1.0</td>\n",
       "      <td>0.0</td>\n",
       "      <td>0.00</td>\n",
       "      <td>0.0</td>\n",
       "      <td>175.4</td>\n",
       "      <td>130.0</td>\n",
       "      <td>44.0</td>\n",
       "      <td>7.98</td>\n",
       "      <td>11.6</td>\n",
       "    </tr>\n",
       "  </tbody>\n",
       "</table>\n",
       "</div>"
      ],
      "text/plain": [
       "   Churn  AccountWeeks  ContractRenewal  DataPlan  DataUsage  CustServCalls  \\\n",
       "0      1         108.0              0.0       0.0       0.38            2.0   \n",
       "1      0         113.0              1.0       1.0       3.59            1.0   \n",
       "2      0         101.0              1.0       0.0       0.00            0.0   \n",
       "3      0          80.0              1.0       1.0       2.89            3.5   \n",
       "4      0          70.0              1.0       0.0       0.00            0.0   \n",
       "\n",
       "   DayMins  DayCalls  MonthlyCharge  OverageFee  RoamMins  \n",
       "0    115.1     114.0           41.8       10.57      13.8  \n",
       "1     44.9      63.0           55.9        6.71      13.3  \n",
       "2    257.3      84.0           60.0        9.24      13.5  \n",
       "3    166.4      92.0           77.9       11.92      10.7  \n",
       "4    175.4     130.0           44.0        7.98      11.6  "
      ]
     },
     "execution_count": 35,
     "metadata": {},
     "output_type": "execute_result"
    }
   ],
   "source": [
    "cell_df.head()"
   ]
  },
  {
   "cell_type": "code",
   "execution_count": 36,
   "metadata": {
    "scrolled": false
   },
   "outputs": [
    {
     "name": "stderr",
     "output_type": "stream",
     "text": [
      "C:\\Users\\KAUSTHAB DUTTA\\anaconda3\\lib\\site-packages\\seaborn\\_decorators.py:36: FutureWarning: Pass the following variable as a keyword arg: x. From version 0.12, the only valid positional argument will be `data`, and passing other arguments without an explicit keyword will result in an error or misinterpretation.\n",
      "  warnings.warn(\n"
     ]
    },
    {
     "data": {
      "image/png": "[encoded data removed]",
      "text/plain": [
       "<Figure size 720x576 with 1 Axes>"
      ]
     },
     "metadata": {
      "needs_background": "light"
     },
     "output_type": "display_data"
    },
    {
     "name": "stderr",
     "output_type": "stream",
     "text": [
      "C:\\Users\\KAUSTHAB DUTTA\\anaconda3\\lib\\site-packages\\seaborn\\_decorators.py:36: FutureWarning: Pass the following variable as a keyword arg: x. From version 0.12, the only valid positional argument will be `data`, and passing other arguments without an explicit keyword will result in an error or misinterpretation.\n",
      "  warnings.warn(\n"
     ]
    },
    {
     "data": {
      "image/png": "[encoded data removed]",
      "text/plain": [
       "<Figure size 720x576 with 1 Axes>"
      ]
     },
     "metadata": {
      "needs_background": "light"
     },
     "output_type": "display_data"
    },
    {
     "name": "stderr",
     "output_type": "stream",
     "text": [
      "C:\\Users\\KAUSTHAB DUTTA\\anaconda3\\lib\\site-packages\\seaborn\\_decorators.py:36: FutureWarning: Pass the following variable as a keyword arg: x. From version 0.12, the only valid positional argument will be `data`, and passing other arguments without an explicit keyword will result in an error or misinterpretation.\n",
      "  warnings.warn(\n"
     ]
    },
    {
     "data": {
      "image/png": "[encoded data removed]",
      "text/plain": [
       "<Figure size 720x576 with 1 Axes>"
      ]
     },
     "metadata": {
      "needs_background": "light"
     },
     "output_type": "display_data"
    },
    {
     "name": "stderr",
     "output_type": "stream",
     "text": [
      "C:\\Users\\KAUSTHAB DUTTA\\anaconda3\\lib\\site-packages\\seaborn\\_decorators.py:36: FutureWarning: Pass the following variable as a keyword arg: x. From version 0.12, the only valid positional argument will be `data`, and passing other arguments without an explicit keyword will result in an error or misinterpretation.\n",
      "  warnings.warn(\n"
     ]
    },
    {
     "data": {
      "image/png": "[encoded data removed]",
      "text/plain": [
       "<Figure size 720x576 with 1 Axes>"
      ]
     },
     "metadata": {
      "needs_background": "light"
     },
     "output_type": "display_data"
    },
    {
     "name": "stderr",
     "output_type": "stream",
     "text": [
      "C:\\Users\\KAUSTHAB DUTTA\\anaconda3\\lib\\site-packages\\seaborn\\_decorators.py:36: FutureWarning: Pass the following variable as a keyword arg: x. From version 0.12, the only valid positional argument will be `data`, and passing other arguments without an explicit keyword will result in an error or misinterpretation.\n",
      "  warnings.warn(\n"
     ]
    },
    {
     "data": {
      "image/png": "[encoded data removed]",
      "text/plain": [
       "<Figure size 720x576 with 1 Axes>"
      ]
     },
     "metadata": {
      "needs_background": "light"
     },
     "output_type": "display_data"
    },
    {
     "name": "stderr",
     "output_type": "stream",
     "text": [
      "C:\\Users\\KAUSTHAB DUTTA\\anaconda3\\lib\\site-packages\\seaborn\\_decorators.py:36: FutureWarning: Pass the following variable as a keyword arg: x. From version 0.12, the only valid positional argument will be `data`, and passing other arguments without an explicit keyword will result in an error or misinterpretation.\n",
      "  warnings.warn(\n"
     ]
    },
    {
     "data": {
      "image/png": "[encoded data removed]",
      "text/plain": [
       "<Figure size 720x576 with 1 Axes>"
      ]
     },
     "metadata": {
      "needs_background": "light"
     },
     "output_type": "display_data"
    },
    {
     "name": "stderr",
     "output_type": "stream",
     "text": [
      "C:\\Users\\KAUSTHAB DUTTA\\anaconda3\\lib\\site-packages\\seaborn\\_decorators.py:36: FutureWarning: Pass the following variable as a keyword arg: x. From version 0.12, the only valid positional argument will be `data`, and passing other arguments without an explicit keyword will result in an error or misinterpretation.\n",
      "  warnings.warn(\n"
     ]
    },
    {
     "data": {
      "image/png": "[encoded data removed]",
      "text/plain": [
       "<Figure size 720x576 with 1 Axes>"
      ]
     },
     "metadata": {
      "needs_background": "light"
     },
     "output_type": "display_data"
    },
    {
     "name": "stderr",
     "output_type": "stream",
     "text": [
      "C:\\Users\\KAUSTHAB DUTTA\\anaconda3\\lib\\site-packages\\seaborn\\_decorators.py:36: FutureWarning: Pass the following variable as a keyword arg: x. From version 0.12, the only valid positional argument will be `data`, and passing other arguments without an explicit keyword will result in an error or misinterpretation.\n",
      "  warnings.warn(\n"
     ]
    },
    {
     "data": {
      "image/png": "[encoded data removed]",
      "text/plain": [
       "<Figure size 720x576 with 1 Axes>"
      ]
     },
     "metadata": {
      "needs_background": "light"
     },
     "output_type": "display_data"
    }
   ],
   "source": [
    "for i in cols:\n",
    "    sns.boxplot(cell_df[i])\n",
    "    plt.show()\n"
   ]
  },
  {
   "cell_type": "markdown",
   "metadata": {},
   "source": [
    "### Train (70%) - Test (30%) Split"
   ]
  },
  {
   "cell_type": "code",
   "execution_count": 37,
   "metadata": {
    "ExecuteTime": {
     "end_time": "2020-07-31T11:26:29.810192Z",
     "start_time": "2020-07-31T11:26:29.803241Z"
    }
   },
   "outputs": [],
   "source": [
    "# Creating a copy of the original data frame\n",
    "df = cell_df.copy()"
   ]
  },
  {
   "cell_type": "code",
   "execution_count": 38,
   "metadata": {
    "ExecuteTime": {
     "end_time": "2020-07-31T11:26:29.944051Z",
     "start_time": "2020-07-31T11:26:29.811155Z"
    }
   },
   "outputs": [
    {
     "data": {
      "text/html": [
       "<div>\n",
       "<style scoped>\n",
       "    .dataframe tbody tr th:only-of-type {\n",
       "        vertical-align: middle;\n",
       "    }\n",
       "\n",
       "    .dataframe tbody tr th {\n",
       "        vertical-align: top;\n",
       "    }\n",
       "\n",
       "    .dataframe thead th {\n",
       "        text-align: right;\n",
       "    }\n",
       "</style>\n",
       "<table border=\"1\" class=\"dataframe\">\n",
       "  <thead>\n",
       "    <tr style=\"text-align: right;\">\n",
       "      <th></th>\n",
       "      <th>Churn</th>\n",
       "      <th>AccountWeeks</th>\n",
       "      <th>ContractRenewal</th>\n",
       "      <th>DataPlan</th>\n",
       "      <th>DataUsage</th>\n",
       "      <th>CustServCalls</th>\n",
       "      <th>DayMins</th>\n",
       "      <th>DayCalls</th>\n",
       "      <th>MonthlyCharge</th>\n",
       "      <th>OverageFee</th>\n",
       "      <th>RoamMins</th>\n",
       "    </tr>\n",
       "  </thead>\n",
       "  <tbody>\n",
       "    <tr>\n",
       "      <th>0</th>\n",
       "      <td>1</td>\n",
       "      <td>108.0</td>\n",
       "      <td>0.0</td>\n",
       "      <td>0.0</td>\n",
       "      <td>0.38</td>\n",
       "      <td>2.0</td>\n",
       "      <td>115.1</td>\n",
       "      <td>114.0</td>\n",
       "      <td>41.8</td>\n",
       "      <td>10.57</td>\n",
       "      <td>13.8</td>\n",
       "    </tr>\n",
       "    <tr>\n",
       "      <th>1</th>\n",
       "      <td>0</td>\n",
       "      <td>113.0</td>\n",
       "      <td>1.0</td>\n",
       "      <td>1.0</td>\n",
       "      <td>3.59</td>\n",
       "      <td>1.0</td>\n",
       "      <td>44.9</td>\n",
       "      <td>63.0</td>\n",
       "      <td>55.9</td>\n",
       "      <td>6.71</td>\n",
       "      <td>13.3</td>\n",
       "    </tr>\n",
       "    <tr>\n",
       "      <th>2</th>\n",
       "      <td>0</td>\n",
       "      <td>101.0</td>\n",
       "      <td>1.0</td>\n",
       "      <td>0.0</td>\n",
       "      <td>0.00</td>\n",
       "      <td>0.0</td>\n",
       "      <td>257.3</td>\n",
       "      <td>84.0</td>\n",
       "      <td>60.0</td>\n",
       "      <td>9.24</td>\n",
       "      <td>13.5</td>\n",
       "    </tr>\n",
       "    <tr>\n",
       "      <th>3</th>\n",
       "      <td>0</td>\n",
       "      <td>80.0</td>\n",
       "      <td>1.0</td>\n",
       "      <td>1.0</td>\n",
       "      <td>2.89</td>\n",
       "      <td>3.5</td>\n",
       "      <td>166.4</td>\n",
       "      <td>92.0</td>\n",
       "      <td>77.9</td>\n",
       "      <td>11.92</td>\n",
       "      <td>10.7</td>\n",
       "    </tr>\n",
       "    <tr>\n",
       "      <th>4</th>\n",
       "      <td>0</td>\n",
       "      <td>70.0</td>\n",
       "      <td>1.0</td>\n",
       "      <td>0.0</td>\n",
       "      <td>0.00</td>\n",
       "      <td>0.0</td>\n",
       "      <td>175.4</td>\n",
       "      <td>130.0</td>\n",
       "      <td>44.0</td>\n",
       "      <td>7.98</td>\n",
       "      <td>11.6</td>\n",
       "    </tr>\n",
       "  </tbody>\n",
       "</table>\n",
       "</div>"
      ],
      "text/plain": [
       "   Churn  AccountWeeks  ContractRenewal  DataPlan  DataUsage  CustServCalls  \\\n",
       "0      1         108.0              0.0       0.0       0.38            2.0   \n",
       "1      0         113.0              1.0       1.0       3.59            1.0   \n",
       "2      0         101.0              1.0       0.0       0.00            0.0   \n",
       "3      0          80.0              1.0       1.0       2.89            3.5   \n",
       "4      0          70.0              1.0       0.0       0.00            0.0   \n",
       "\n",
       "   DayMins  DayCalls  MonthlyCharge  OverageFee  RoamMins  \n",
       "0    115.1     114.0           41.8       10.57      13.8  \n",
       "1     44.9      63.0           55.9        6.71      13.3  \n",
       "2    257.3      84.0           60.0        9.24      13.5  \n",
       "3    166.4      92.0           77.9       11.92      10.7  \n",
       "4    175.4     130.0           44.0        7.98      11.6  "
      ]
     },
     "execution_count": 38,
     "metadata": {},
     "output_type": "execute_result"
    }
   ],
   "source": [
    "df.head()"
   ]
  },
  {
   "cell_type": "code",
   "execution_count": 39,
   "metadata": {
    "ExecuteTime": {
     "end_time": "2020-07-31T11:26:30.031126Z",
     "start_time": "2020-07-31T11:26:29.946046Z"
    }
   },
   "outputs": [],
   "source": [
    "X = df.drop('Churn',axis=1)\n",
    "Y = df['Churn']"
   ]
  },
  {
   "cell_type": "code",
   "execution_count": 40,
   "metadata": {
    "ExecuteTime": {
     "end_time": "2020-07-31T11:26:30.124269Z",
     "start_time": "2020-07-31T11:26:30.033149Z"
    }
   },
   "outputs": [],
   "source": [
    "X_train,X_test,Y_train,Y_test = model_selection.train_test_split(X,Y,test_size=0.30,random_state=1,stratify = Y)"
   ]
  },
  {
   "cell_type": "code",
   "execution_count": 41,
   "metadata": {
    "ExecuteTime": {
     "end_time": "2020-07-31T11:26:30.208542Z",
     "start_time": "2020-07-31T11:26:30.127224Z"
    }
   },
   "outputs": [
    {
     "name": "stdout",
     "output_type": "stream",
     "text": [
      "Number of rows and columns of the training set for the independent variables: (2333, 10)\n",
      "Number of rows and columns of the training set for the dependent variable: (2333,)\n",
      "Number of rows and columns of the test set for the independent variables: (1000, 10)\n",
      "Number of rows and columns of the test set for the dependent variable: (1000,)\n"
     ]
    }
   ],
   "source": [
    "print('Number of rows and columns of the training set for the independent variables:',X_train.shape)\n",
    "print('Number of rows and columns of the training set for the dependent variable:',Y_train.shape)\n",
    "print('Number of rows and columns of the test set for the independent variables:',X_test.shape)\n",
    "print('Number of rows and columns of the test set for the dependent variable:',Y_test.shape)"
   ]
  },
  {
   "cell_type": "code",
   "execution_count": 42,
   "metadata": {},
   "outputs": [
    {
     "data": {
      "text/plain": [
       "0    0.855122\n",
       "1    0.144878\n",
       "Name: Churn, dtype: float64"
      ]
     },
     "execution_count": 42,
     "metadata": {},
     "output_type": "execute_result"
    }
   ],
   "source": [
    "Y_train.value_counts(normalize=True)"
   ]
  },
  {
   "cell_type": "code",
   "execution_count": 43,
   "metadata": {},
   "outputs": [
    {
     "data": {
      "text/plain": [
       "0    0.855\n",
       "1    0.145\n",
       "Name: Churn, dtype: float64"
      ]
     },
     "execution_count": 43,
     "metadata": {},
     "output_type": "execute_result"
    }
   ],
   "source": [
    "Y_test.value_counts(normalize=True)"
   ]
  },
  {
   "cell_type": "markdown",
   "metadata": {},
   "source": [
    "## Scaling"
   ]
  },
  {
   "cell_type": "code",
   "execution_count": 44,
   "metadata": {},
   "outputs": [],
   "source": [
    "from sklearn.preprocessing import StandardScaler"
   ]
  },
  {
   "cell_type": "code",
   "execution_count": 45,
   "metadata": {},
   "outputs": [],
   "source": [
    "sc = StandardScaler()"
   ]
  },
  {
   "cell_type": "code",
   "execution_count": 46,
   "metadata": {},
   "outputs": [],
   "source": [
    "X_train = sc.fit_transform(X_train)\n",
    "X_test = sc.transform(X_test)"
   ]
  },
  {
   "cell_type": "markdown",
   "metadata": {},
   "source": [
    "### LDA Model"
   ]
  },
  {
   "cell_type": "code",
   "execution_count": 47,
   "metadata": {
    "ExecuteTime": {
     "end_time": "2020-07-31T11:26:30.322267Z",
     "start_time": "2020-07-31T11:26:30.210511Z"
    }
   },
   "outputs": [],
   "source": [
    "#Build LDA Model\n",
    "clf = LinearDiscriminantAnalysis()\n",
    "model=clf.fit(X_train,Y_train)"
   ]
  },
  {
   "cell_type": "markdown",
   "metadata": {},
   "source": [
    "### Prediction"
   ]
  },
  {
   "cell_type": "code",
   "execution_count": 48,
   "metadata": {
    "ExecuteTime": {
     "end_time": "2020-07-31T11:26:30.434581Z",
     "start_time": "2020-07-31T11:26:30.325209Z"
    }
   },
   "outputs": [],
   "source": [
    "# Training Data Class Prediction with a cut-off value of 0.5\n",
    "pred_class_train = model.predict(X_train)\n",
    "\n",
    "# Test Data Class Prediction with a cut-off value of 0.5\n",
    "pred_class_test = model.predict(X_test)"
   ]
  },
  {
   "cell_type": "markdown",
   "metadata": {},
   "source": [
    "### Training Data and Test Data Confusion Matrix Comparison"
   ]
  },
  {
   "cell_type": "code",
   "execution_count": 40,
   "metadata": {
    "ExecuteTime": {
     "end_time": "2020-07-31T11:26:30.839159Z",
     "start_time": "2020-07-31T11:26:30.439558Z"
    }
   },
   "outputs": [
    {
     "data": {
      "image/png": "[encoded data removed]",
      "text/plain": [
       "<Figure size 720x576 with 4 Axes>"
      ]
     },
     "metadata": {
      "needs_background": "light"
     },
     "output_type": "display_data"
    }
   ],
   "source": [
    "f,a =  plt.subplots(1,2,sharex=True,sharey=True,squeeze=False)\n",
    "\n",
    "#Plotting confusion matrix for the different models for the Training Data\n",
    "\n",
    "plot_0 = sns.heatmap((metrics.confusion_matrix(Y_train,pred_class_train)),annot=True,fmt='.5g',cmap='Greys',ax=a[0][0]);\n",
    "a[0][0].set_title('Training Data')\n",
    "\n",
    "plot_1 = sns.heatmap((metrics.confusion_matrix(Y_test,pred_class_test)),annot=True,fmt='.5g',cmap='Greys',ax=a[0][1]);\n",
    "a[0][1].set_title('Test Data');\n"
   ]
  },
  {
   "cell_type": "markdown",
   "metadata": {},
   "source": [
    "### Training Data and Test Data Classification Report Comparison"
   ]
  },
  {
   "cell_type": "code",
   "execution_count": 41,
   "metadata": {
    "ExecuteTime": {
     "end_time": "2020-07-31T11:26:30.857097Z",
     "start_time": "2020-07-31T11:26:30.840115Z"
    }
   },
   "outputs": [
    {
     "name": "stdout",
     "output_type": "stream",
     "text": [
      "Classification Report of the training data:\n",
      "\n",
      "               precision    recall  f1-score   support\n",
      "\n",
      "         0.0       0.88      0.96      0.92      1995\n",
      "         1.0       0.48      0.23      0.31       338\n",
      "\n",
      "    accuracy                           0.85      2333\n",
      "   macro avg       0.68      0.59      0.61      2333\n",
      "weighted avg       0.82      0.85      0.83      2333\n",
      " \n",
      "\n",
      "Classification Report of the test data:\n",
      "\n",
      "               precision    recall  f1-score   support\n",
      "\n",
      "         0.0       0.88      0.95      0.92       855\n",
      "         1.0       0.47      0.23      0.31       145\n",
      "\n",
      "    accuracy                           0.85      1000\n",
      "   macro avg       0.67      0.59      0.61      1000\n",
      "weighted avg       0.82      0.85      0.83      1000\n",
      " \n",
      "\n"
     ]
    }
   ],
   "source": [
    "print('Classification Report of the training data:\\n\\n',metrics.classification_report(Y_train,pred_class_train),'\\n')\n",
    "print('Classification Report of the test data:\\n\\n',metrics.classification_report(Y_test,pred_class_test),'\\n')"
   ]
  },
  {
   "cell_type": "markdown",
   "metadata": {},
   "source": [
    "### Probability prediction for the training and test data"
   ]
  },
  {
   "cell_type": "code",
   "execution_count": 52,
   "metadata": {
    "ExecuteTime": {
     "end_time": "2020-07-31T11:26:31.156032Z",
     "start_time": "2020-07-31T11:26:30.858067Z"
    }
   },
   "outputs": [],
   "source": [
    "# Training Data Probability Prediction\n",
    "pred_prob_train = model.predict_proba(X_train)\n",
    "\n",
    "# Test Data Probability Prediction\n",
    "pred_prob_test = model.predict_proba(X_test)"
   ]
  },
  {
   "cell_type": "code",
   "execution_count": 57,
   "metadata": {},
   "outputs": [
    {
     "data": {
      "text/plain": [
       "0.17803808416376166"
      ]
     },
     "execution_count": 57,
     "metadata": {},
     "output_type": "execute_result"
    }
   ],
   "source": [
    "pred_prob_train[:,1][2]"
   ]
  },
  {
   "cell_type": "code",
   "execution_count": 140,
   "metadata": {
    "ExecuteTime": {
     "end_time": "2020-07-31T11:26:31.252957Z",
     "start_time": "2020-07-31T11:26:31.159031Z"
    },
    "scrolled": true
   },
   "outputs": [
    {
     "data": {
      "text/plain": [
       "0.17803808416376166"
      ]
     },
     "execution_count": 140,
     "metadata": {},
     "output_type": "execute_result"
    }
   ],
   "source": [
    "pred_prob_train[:,1][2]"
   ]
  },
  {
   "cell_type": "code",
   "execution_count": 51,
   "metadata": {
    "ExecuteTime": {
     "end_time": "2020-07-31T11:26:31.581460Z",
     "start_time": "2020-07-31T11:26:31.254914Z"
    }
   },
   "outputs": [
    {
     "name": "stdout",
     "output_type": "stream",
     "text": [
      "AUC for the Training Data: 0.793\n",
      "AUC for the Test Data: 0.807\n"
     ]
    },
    {
     "data": {
      "image/png": "[encoded data removed]",
      "text/plain": [
       "<Figure size 720x576 with 1 Axes>"
      ]
     },
     "metadata": {
      "needs_background": "light"
     },
     "output_type": "display_data"
    }
   ],
   "source": [
    "# AUC and ROC for the training data\n",
    "\n",
    "# calculate AUC\n",
    "auc = metrics.roc_auc_score(Y_train,pred_prob_train[:,1])\n",
    "print('AUC for the Training Data: %.3f' % auc)\n",
    "\n",
    "#  calculate roc curve\n",
    "fpr, tpr, thresholds = metrics.roc_curve(Y_train,pred_prob_train[:,1])\n",
    "plt.plot([0, 1], [0, 1], linestyle='--')\n",
    "# plot the roc curve for the model\n",
    "plt.plot(fpr, tpr, marker='.',label = 'Training Data')\n",
    "\n",
    "\n",
    "# AUC and ROC for the test data\n",
    "\n",
    "# calculate AUC\n",
    "auc = metrics.roc_auc_score(Y_test,pred_prob_test[:,1])\n",
    "print('AUC for the Test Data: %.3f' % auc)\n",
    "\n",
    "#  calculate roc curve\n",
    "fpr, tpr, thresholds = metrics.roc_curve(Y_test,pred_prob_test[:,1])\n",
    "plt.plot([0, 1], [0, 1], linestyle='--')\n",
    "# plot the roc curve for the model\n",
    "plt.plot(fpr, tpr, marker='.',label='Test Data')\n",
    "# show the plot\n",
    "plt.legend(loc='best')\n",
    "plt.show()"
   ]
  },
  {
   "cell_type": "markdown",
   "metadata": {},
   "source": [
    "# Conclusion"
   ]
  },
  {
   "cell_type": "markdown",
   "metadata": {},
   "source": [
    "The model accuracy on the training as well as the test set is about 85%, which is roughly the same proportion as the class 0 observations in the dataset. \n",
    "This model is affected by a class imbalance problem.\n",
    "Since we only have 3333 observations, if re-build the same LDA model with more number of data points, an even better model could be built.  \n",
    "\n",
    "Please do go ahead ad try to build other classification algorithms learnt so far in the course and compare the performances of those."
   ]
  },
  {
   "cell_type": "markdown",
   "metadata": {},
   "source": [
    "# How to change the cut-off values for maximum accuracy?"
   ]
  },
  {
   "cell_type": "markdown",
   "metadata": {},
   "source": [
    "We will do this exercise only on the training data."
   ]
  },
  {
   "cell_type": "code",
   "execution_count": 44,
   "metadata": {
    "scrolled": false
   },
   "outputs": [
    {
     "name": "stdout",
     "output_type": "stream",
     "text": [
      "0.1 \n",
      "\n",
      "Accuracy Score 0.6781\n",
      "Recall Score 0.7899\n",
      "F1 Score 0.4156 \n",
      "\n",
      "0.2 \n",
      "\n",
      "Accuracy Score 0.8093\n",
      "Recall Score 0.5266\n",
      "F1 Score 0.4444 \n",
      "\n",
      "0.3 \n",
      "\n",
      "Accuracy Score 0.8465\n",
      "Recall Score 0.3846\n",
      "F1 Score 0.4207 \n",
      "\n",
      "0.4 \n",
      "\n",
      "Accuracy Score 0.8538\n",
      "Recall Score 0.2959\n",
      "F1 Score 0.3697 \n",
      "\n",
      "0.5 \n",
      "\n",
      "Accuracy Score 0.853\n",
      "Recall Score 0.2278\n",
      "F1 Score 0.3099 \n",
      "\n",
      "0.6 \n",
      "\n",
      "Accuracy Score 0.8538\n",
      "Recall Score 0.1746\n",
      "F1 Score 0.2571 \n",
      "\n",
      "0.7 \n",
      "\n",
      "Accuracy Score 0.8598\n",
      "Recall Score 0.1213\n",
      "F1 Score 0.2005 \n",
      "\n",
      "0.8 \n",
      "\n",
      "Accuracy Score 0.859\n",
      "Recall Score 0.0621\n",
      "F1 Score 0.1132 \n",
      "\n",
      "0.9 \n",
      "\n",
      "Accuracy Score 0.8556\n",
      "Recall Score 0.0059\n",
      "F1 Score 0.0117 \n",
      "\n"
     ]
    }
   ],
   "source": [
    "for j in np.arange(0.1,1,0.1):\n",
    "    custom_prob = j #defining the cut-off value of our choice\n",
    "    custom_cutoff_data=[]#defining an empty list\n",
    "    for i in range(0,len(Y_train)):#defining a loop for the length of the test data\n",
    "        if np.array(pred_prob_train[:,1])[i] > custom_prob:#issuing a condition for our probability values to be \n",
    "            #greater than the custom cutoff value\n",
    "            a=1#if the probability values are greater than the custom cutoff then the value should be 1\n",
    "        else:\n",
    "            a=0#if the probability values are less than the custom cutoff then the value should be 0\n",
    "        custom_cutoff_data.append(a)#adding either 1 or 0 based on the condition to the end of the list defined by us\n",
    "    print(round(j,3),'\\n')\n",
    "    print('Accuracy Score',round(metrics.accuracy_score(Y_train,custom_cutoff_data),4))\n",
    "    print('Recall Score',round(metrics.recall_score(Y_train,custom_cutoff_data),4))\n",
    "    \n",
    "    print('F1 Score',round(metrics.f1_score(Y_train,custom_cutoff_data),4),'\\n')\n",
    "#     plt.figure(figsize=(6,4))\n",
    "#     print('Confusion Matrix')\n",
    "#     sns.heatmap(metrics.confusion_matrix(Y_train,custom_cutoff_data),annot=True,fmt='.4g'),'\\n\\n'\n",
    "#     plt.show();"
   ]
  },
  {
   "cell_type": "code",
   "execution_count": 143,
   "metadata": {
    "scrolled": false
   },
   "outputs": [
    {
     "name": "stdout",
     "output_type": "stream",
     "text": [
      "0.1 \n",
      "\n",
      "Accuracy Score 0.6781\n",
      "Precision Score 0.2819\n",
      "F1 Score 0.4156 \n",
      "\n",
      "0.2 \n",
      "\n",
      "Accuracy Score 0.8093\n",
      "Precision Score 0.3844\n",
      "F1 Score 0.4444 \n",
      "\n",
      "0.3 \n",
      "\n",
      "Accuracy Score 0.8465\n",
      "Precision Score 0.4643\n",
      "F1 Score 0.4207 \n",
      "\n",
      "0.4 \n",
      "\n",
      "Accuracy Score 0.8538\n",
      "Precision Score 0.4926\n",
      "F1 Score 0.3697 \n",
      "\n",
      "0.5 \n",
      "\n",
      "Accuracy Score 0.853\n",
      "Precision Score 0.4843\n",
      "F1 Score 0.3099 \n",
      "\n",
      "0.6 \n",
      "\n",
      "Accuracy Score 0.8538\n",
      "Precision Score 0.4876\n",
      "F1 Score 0.2571 \n",
      "\n",
      "0.7 \n",
      "\n",
      "Accuracy Score 0.8598\n",
      "Precision Score 0.5775\n",
      "F1 Score 0.2005 \n",
      "\n",
      "0.8 \n",
      "\n",
      "Accuracy Score 0.859\n",
      "Precision Score 0.6364\n",
      "F1 Score 0.1132 \n",
      "\n",
      "0.9 \n",
      "\n",
      "Accuracy Score 0.8556\n",
      "Precision Score 0.6667\n",
      "F1 Score 0.0117 \n",
      "\n"
     ]
    }
   ],
   "source": [
    "for j in np.arange(0.1,1,0.1):\n",
    "    custom_prob = j #defining the cut-off value of our choice\n",
    "    custom_cutoff_data=[]#defining an empty list\n",
    "    for i in range(0,len(Y_train)):#defining a loop for the length of the test data\n",
    "        if np.array(pred_prob_train[:,1])[i] > custom_prob:#issuing a condition for our probability values to be \n",
    "            #greater than the custom cutoff value\n",
    "            a=1#if the probability values are greater than the custom cutoff then the value should be 1\n",
    "        else:\n",
    "            a=0#if the probability values are less than the custom cutoff then the value should be 0\n",
    "        custom_cutoff_data.append(a)#adding either 1 or 0 based on the condition to the end of the list defined by us\n",
    "    print(round(j,3),'\\n')\n",
    "    print('Accuracy Score',round(metrics.accuracy_score(Y_train,custom_cutoff_data),4))\n",
    "    print('Precision Score',round(metrics.precision_score(Y_train,custom_cutoff_data),4))\n",
    "    print('F1 Score',round(metrics.f1_score(Y_train,custom_cutoff_data),4),'\\n')\n",
    "#     plt.figure(figsize=(6,4))\n",
    "#     print('Confusion Matrix')\n",
    "#     sns.heatmap(metrics.confusion_matrix(Y_train,custom_cutoff_data),annot=True,fmt='.4g'),'\\n\\n'\n",
    "#     plt.show();"
   ]
  },
  {
   "cell_type": "code",
   "execution_count": 105,
   "metadata": {
    "ExecuteTime": {
     "end_time": "2020-07-31T11:26:32.934715Z",
     "start_time": "2020-07-31T11:26:31.582457Z"
    },
    "scrolled": false
   },
   "outputs": [
    {
     "name": "stdout",
     "output_type": "stream",
     "text": [
      "0.1 \n",
      "\n",
      "Accuracy Score 0.6781\n",
      "Recall Score 0.7899\n",
      "F1 Score 0.4156 \n",
      "\n",
      "Confusion Matrix\n"
     ]
    },
    {
     "data": {
      "image/png": "[encoded data removed]",
      "text/plain": [
       "<Figure size 432x288 with 2 Axes>"
      ]
     },
     "metadata": {
      "needs_background": "light"
     },
     "output_type": "display_data"
    },
    {
     "name": "stdout",
     "output_type": "stream",
     "text": [
      "0.2 \n",
      "\n",
      "Accuracy Score 0.8093\n",
      "Recall Score 0.5266\n",
      "F1 Score 0.4444 \n",
      "\n",
      "Confusion Matrix\n"
     ]
    },
    {
     "data": {
      "image/png": "[encoded data removed]",
      "text/plain": [
       "<Figure size 432x288 with 2 Axes>"
      ]
     },
     "metadata": {
      "needs_background": "light"
     },
     "output_type": "display_data"
    },
    {
     "name": "stdout",
     "output_type": "stream",
     "text": [
      "0.3 \n",
      "\n",
      "Accuracy Score 0.8465\n",
      "Recall Score 0.3846\n",
      "F1 Score 0.4207 \n",
      "\n",
      "Confusion Matrix\n"
     ]
    },
    {
     "data": {
      "image/png": "[encoded data removed]",
      "text/plain": [
       "<Figure size 432x288 with 2 Axes>"
      ]
     },
     "metadata": {
      "needs_background": "light"
     },
     "output_type": "display_data"
    },
    {
     "name": "stdout",
     "output_type": "stream",
     "text": [
      "0.4 \n",
      "\n",
      "Accuracy Score 0.8538\n",
      "Recall Score 0.2959\n",
      "F1 Score 0.3697 \n",
      "\n",
      "Confusion Matrix\n"
     ]
    },
    {
     "data": {
      "image/png": "[encoded data removed]",
      "text/plain": [
       "<Figure size 432x288 with 2 Axes>"
      ]
     },
     "metadata": {
      "needs_background": "light"
     },
     "output_type": "display_data"
    },
    {
     "name": "stdout",
     "output_type": "stream",
     "text": [
      "0.5 \n",
      "\n",
      "Accuracy Score 0.853\n",
      "Recall Score 0.2278\n",
      "F1 Score 0.3099 \n",
      "\n",
      "Confusion Matrix\n"
     ]
    },
    {
     "data": {
      "image/png": "[encoded data removed]",
      "text/plain": [
       "<Figure size 432x288 with 2 Axes>"
      ]
     },
     "metadata": {
      "needs_background": "light"
     },
     "output_type": "display_data"
    },
    {
     "name": "stdout",
     "output_type": "stream",
     "text": [
      "0.6 \n",
      "\n",
      "Accuracy Score 0.8538\n",
      "Recall Score 0.1746\n",
      "F1 Score 0.2571 \n",
      "\n",
      "Confusion Matrix\n"
     ]
    },
    {
     "data": {
      "image/png": "[encoded data removed]",
      "text/plain": [
       "<Figure size 432x288 with 2 Axes>"
      ]
     },
     "metadata": {
      "needs_background": "light"
     },
     "output_type": "display_data"
    },
    {
     "name": "stdout",
     "output_type": "stream",
     "text": [
      "0.7 \n",
      "\n",
      "Accuracy Score 0.8598\n",
      "Recall Score 0.1213\n",
      "F1 Score 0.2005 \n",
      "\n",
      "Confusion Matrix\n"
     ]
    },
    {
     "data": {
      "image/png": "[encoded data removed]",
      "text/plain": [
       "<Figure size 432x288 with 2 Axes>"
      ]
     },
     "metadata": {
      "needs_background": "light"
     },
     "output_type": "display_data"
    },
    {
     "name": "stdout",
     "output_type": "stream",
     "text": [
      "0.8 \n",
      "\n",
      "Accuracy Score 0.859\n",
      "Recall Score 0.0621\n",
      "F1 Score 0.1132 \n",
      "\n",
      "Confusion Matrix\n"
     ]
    },
    {
     "data": {
      "image/png": "[encoded data removed]",
      "text/plain": [
       "<Figure size 432x288 with 2 Axes>"
      ]
     },
     "metadata": {
      "needs_background": "light"
     },
     "output_type": "display_data"
    },
    {
     "name": "stdout",
     "output_type": "stream",
     "text": [
      "0.9 \n",
      "\n",
      "Accuracy Score 0.8556\n",
      "Recall Score 0.0059\n",
      "F1 Score 0.0117 \n",
      "\n",
      "Confusion Matrix\n"
     ]
    },
    {
     "data": {
      "image/png": "[encoded data removed]",
      "text/plain": [
       "<Figure size 432x288 with 2 Axes>"
      ]
     },
     "metadata": {
      "needs_background": "light"
     },
     "output_type": "display_data"
    }
   ],
   "source": [
    "for j in np.arange(0.1,1,0.1):\n",
    "    custom_prob = j #defining the cut-off value of our choice\n",
    "    custom_cutoff_data=[]#defining an empty list\n",
    "    for i in range(0,len(Y_train)):#defining a loop for the length of the test data\n",
    "        if np.array(pred_prob_train[:,1])[i] > custom_prob:#issuing a condition for our probability values to be \n",
    "            #greater than the custom cutoff value\n",
    "            a=1#if the probability values are greater than the custom cutoff then the value should be 1\n",
    "        else:\n",
    "            a=0#if the probability values are less than the custom cutoff then the value should be 0\n",
    "        custom_cutoff_data.append(a)#adding either 1 or 0 based on the condition to the end of the list defined by us\n",
    "    print(round(j,3),'\\n')\n",
    "    print('Accuracy Score',round(metrics.accuracy_score(Y_train,custom_cutoff_data),4))\n",
    "    print('Recall Score',round(metrics.recall_score(Y_train,custom_cutoff_data),4))\n",
    "    print('F1 Score',round(metrics.f1_score(Y_train,custom_cutoff_data),4),'\\n')\n",
    "    plt.figure(figsize=(6,4))\n",
    "    print('Confusion Matrix')\n",
    "    sns.heatmap(metrics.confusion_matrix(Y_train,custom_cutoff_data),annot=True,fmt='.4g'),'\\n\\n'\n",
    "    plt.show();"
   ]
  },
  {
   "cell_type": "markdown",
   "metadata": {},
   "source": [
    "We see that 0.7 and 0.8 gives better accuracy than the rest of the custom cut-off values. But 0.2 cut-off gives us the best 'f1-score'. Here, we will take the cut-off as 0.2 to get the optimum 'f1' score.\n",
    "\n",
    "Let us evaluate the predictions of the test data using these cut-off values."
   ]
  },
  {
   "cell_type": "code",
   "execution_count": 58,
   "metadata": {
    "ExecuteTime": {
     "end_time": "2020-07-31T11:26:32.942693Z",
     "start_time": "2020-07-31T11:26:32.935713Z"
    }
   },
   "outputs": [],
   "source": [
    "#Predicting the classes on the test data\n",
    "\n",
    "data_pred_custom_cutoff=[]\n",
    "for i in range(0,len(pred_prob_test[:,1])):\n",
    "    if np.array(pred_prob_test[:,1])[i]>0.1:\n",
    "        a=1\n",
    "    else:\n",
    "        a=0\n",
    "    data_pred_custom_cutoff.append(a)"
   ]
  },
  {
   "cell_type": "code",
   "execution_count": 59,
   "metadata": {
    "ExecuteTime": {
     "end_time": "2020-07-31T11:26:33.307717Z",
     "start_time": "2020-07-31T11:26:32.943690Z"
    }
   },
   "outputs": [
    {
     "data": {
      "image/png": "[encoded data removed]",
      "text/plain": [
       "<Figure size 720x576 with 2 Axes>"
      ]
     },
     "metadata": {
      "needs_background": "light"
     },
     "output_type": "display_data"
    }
   ],
   "source": [
    "sns.heatmap((metrics.confusion_matrix(Y_test,data_pred_custom_cutoff)),annot=True,fmt='.5g',cmap='Greys');"
   ]
  },
  {
   "cell_type": "code",
   "execution_count": 60,
   "metadata": {
    "ExecuteTime": {
     "end_time": "2020-07-31T11:26:33.353593Z",
     "start_time": "2020-07-31T11:26:33.313701Z"
    },
    "scrolled": false
   },
   "outputs": [
    {
     "name": "stdout",
     "output_type": "stream",
     "text": [
      "Classification Report of the default cut-off test data:\n",
      "\n",
      "               precision    recall  f1-score   support\n",
      "\n",
      "           0       0.88      0.95      0.92       855\n",
      "           1       0.47      0.23      0.31       145\n",
      "\n",
      "    accuracy                           0.85      1000\n",
      "   macro avg       0.67      0.59      0.61      1000\n",
      "weighted avg       0.82      0.85      0.83      1000\n",
      " \n",
      "\n",
      "\n",
      "\n",
      "Classification Report of the custom cut-off test data:\n",
      "\n",
      "               precision    recall  f1-score   support\n",
      "\n",
      "           0       0.96      0.66      0.78       855\n",
      "           1       0.29      0.83      0.43       145\n",
      "\n",
      "    accuracy                           0.68      1000\n",
      "   macro avg       0.63      0.75      0.61      1000\n",
      "weighted avg       0.86      0.68      0.73      1000\n",
      " \n",
      "\n"
     ]
    }
   ],
   "source": [
    "print('Classification Report of the default cut-off test data:\\n\\n',metrics.classification_report(Y_test,pred_class_test),'\\n\\n\\n')\n",
    "print('Classification Report of the custom cut-off test data:\\n\\n',metrics.classification_report(Y_test,data_pred_custom_cutoff),'\\n')"
   ]
  },
  {
   "cell_type": "markdown",
   "metadata": {},
   "source": [
    "## Inferences"
   ]
  },
  {
   "cell_type": "markdown",
   "metadata": {},
   "source": [
    "\n",
    "                                                                                               Note :\n",
    "\n",
    "                                                         Precison : tells us how many predictions are actually positive\n",
    "                                                         \n",
    "                                                                    out of all the total positive predicted.\n",
    "                                                         \n",
    "                                                         Recall   : how many observations of positive class are actually \n",
    "                                                         \n",
    "                                                                    predicted as positive. "
   ]
  },
  {
   "cell_type": "markdown",
   "metadata": {},
   "source": [
    "### Inferences using custom cut-off test data"
   ]
  },
  {
   "cell_type": "markdown",
   "metadata": {},
   "source": [
    "For {Customer who didnot Churn (Label 0 )}:\n",
    "   \n",
    "   <b/>Precision (93%) – 93% of Customers who didnot Churn are correctly predicted ,out of all Customers who didnot Churn that    are predicted .</b>\n",
    "   \n",
    "   <b/>Recall (85%) – Out of all the Customers who actually didnot Churn , 85% of Customers who didnot Churn have been \n",
    "   predicted correctly .</b>\n",
    "    \n",
    "For {Customer who did Churn (Label 1 )}:\n",
    "    \n",
    "   <b/>Precision (40%) – 40% of Customers who did Churn are correctly predicted ,out of all Customers who did Churn that\n",
    "   are predicted .</b>\n",
    "   \n",
    "   <b/>Recall (60%) – Out of all the Customers who actually did Churn , 60% of Customers who did Churn have been predicted   \n",
    "   correctly .</b>\n",
    "    "
   ]
  },
  {
   "cell_type": "markdown",
   "metadata": {},
   "source": [
    "#### Overall accuracy of the model – 81 % of total predictions are correct"
   ]
  },
  {
   "cell_type": "markdown",
   "metadata": {},
   "source": [
    "Accuracy, AUC, Precision and Recall for test data is almost inline with training data. \n",
    "This proves no overfitting or underfitting has happened, and overall the model is a good model for classification"
   ]
  },
  {
   "cell_type": "markdown",
   "metadata": {},
   "source": [
    "# END"
   ]
  }
 ],
 "metadata": {
  "kernelspec": {
   "display_name": "Python 3 (ipykernel)",
   "language": "python",
   "name": "python3"
  },
  "language_info": {
   "codemirror_mode": {
    "name": "ipython",
    "version": 3
   },
   "file_extension": ".py",
   "mimetype": "text/x-python",
   "name": "python",
   "nbconvert_exporter": "python",
   "pygments_lexer": "ipython3",
   "version": "3.9.12"
  },
  "toc": {
   "base_numbering": 1,
   "nav_menu": {},
   "number_sections": true,
   "sideBar": true,
   "skip_h1_title": false,
   "title_cell": "Table of Contents",
   "title_sidebar": "Contents",
   "toc_cell": false,
   "toc_position": {},
   "toc_section_display": true,
   "toc_window_display": false
  },
  "varInspector": {
   "cols": {
    "lenName": 16,
    "lenType": 16,
    "lenVar": 40
   },
   "kernels_config": {
    "python": {
     "delete_cmd_postfix": "",
     "delete_cmd_prefix": "del ",
     "library": "var_list.py",
     "varRefreshCmd": "print(var_dic_list())"
    },
    "r": {
     "delete_cmd_postfix": ") ",
     "delete_cmd_prefix": "rm(",
     "library": "var_list.r",
     "varRefreshCmd": "cat(var_dic_list()) "
    }
   },
   "types_to_exclude": [
    "module",
    "function",
    "builtin_function_or_method",
    "instance",
    "_Feature"
   ],
   "window_display": false
  }
 },
 "nbformat": 4,
 "nbformat_minor": 2
}
